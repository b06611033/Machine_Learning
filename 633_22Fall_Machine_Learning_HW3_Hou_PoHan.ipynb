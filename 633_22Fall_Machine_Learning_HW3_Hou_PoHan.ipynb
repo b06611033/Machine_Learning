{
  "nbformat": 4,
  "nbformat_minor": 0,
  "metadata": {
    "colab": {
      "provenance": [],
      "collapsed_sections": [
        "R3O8xnfjJWWK",
        "au9uzvGzJmbH",
        "5VBKeydgJveY",
        "TFGRjOOnhK0S",
        "vRiYDxhdJ3c3",
        "5nKFrfyeKZvR",
        "Nwv-x4ENLjac",
        "n2BVfCcUMvTI"
      ]
    },
    "kernelspec": {
      "name": "python3",
      "display_name": "Python 3"
    }
  },
  "cells": [
    {
      "cell_type": "markdown",
      "metadata": {
        "id": "5D48bskJS25M"
      },
      "source": [
        "# CSCE633 Fall 2022 (Total 100 pts) - change filename to include your name\n",
        "\n",
        "**Machine Learning**\n",
        "\n",
        "**Homework 3**\n",
        "\n",
        "Instructor: Yoonsuck Choe\n",
        "\n",
        "October 16, 2022\n",
        "\n",
        "\n",
        "---"
      ]
    },
    {
      "cell_type": "markdown",
      "metadata": {
        "id": "PTadtehSTEem"
      },
      "source": [
        "**Student name:** Hou, Po Han\n",
        "\n",
        "\n",
        "---"
      ]
    },
    {
      "cell_type": "markdown",
      "metadata": {
        "id": "seH0_JOMTS2c"
      },
      "source": [
        "# Common instructions (Read carefully)\n",
        "\n",
        "Hint: \n",
        "* Go to View $\\rightarrow$ Collapse sections to quickly jump to the problems you are working on. \n",
        "* Click triple line icon near the top left to see the table of contents for quick navigation.\n"
      ]
    },
    {
      "cell_type": "markdown",
      "metadata": {
        "id": "VRafXus3T2bg"
      },
      "source": [
        "**Submission:**\n",
        "\n",
        "1. Rename the file to **633-22fall Machine Learning HW3 - lastname firstname.ipynb**.\n",
        "2. After you complete each section, \"Save and pin\" the revision. (**File -> Save and pin revision**). \n",
        "> There will be a 20-point penalty for not including revision history in the submission as instructed below.\n",
        "3. When you're ready to submit, \n",
        "> 1. download the ipynb file (**File -> Download .ipynb**).\n",
        "> 2. take screenshot of revision history, by comparing each successive pinned revisions (there will be several of these: final vs. latest pin, latest pin vs. previous pin, etc.). (**File -> Revision history**, then click on the radio buttons for pinned revisions to compare. Scroll down to the part that shows the major revised part, and take a screenshot. No need to show the entire revision history.)\n",
        ">> Important: Unselect \"[ ] Show output\" to suppress diff of execution outputs.\n",
        ">> Jupyter notebook: If you're using Jupyter notebook on your local machine, run %history -g -f filename.log  and submit the log file. \n",
        "> 3. submit a zip file **lastname-firstname.zip** containing the ipynb file and all revision screenshots.\n",
        "\n",
        "**Using the markdown language in the \"text\" boxes:**\n",
        "\n",
        "Note: See https://colab.research.google.com/notebooks/markdown_guide.ipynb#scrollTo=70pYkR9LiOV0 for how to use the markdown when writing your answer in the text boxes.\n",
        "\n",
        "\n",
        "**NEW: Including images/screenshots**\n",
        "\n",
        "When including screenshots directly into the text cell, the markup source can get too long. To avoid this, you can upload your images to google drive, make them publicly viewable, get the share link, get the id string  from the link (for example, 1IDUkDGqQ1xSKOT3Wg8SKgAlKsDIdUQUy), and insert a tag like below:  \n",
        "```\n",
        "<img src=\"https://drive.google.com/uc?export=view&id=1IDUkDGqQ1xSKOT3Wg8SKgAlKsDIdUQUy\"> \n",
        "```\n"
      ]
    },
    {
      "cell_type": "markdown",
      "metadata": {
        "id": "M2s4WcOkUAWc"
      },
      "source": [
        "# Section I: Entropy"
      ]
    },
    {
      "cell_type": "markdown",
      "metadata": {
        "id": "4cb72f6wUDVz"
      },
      "source": [
        "Given a random variable $X$ that can take on values $\\{ \\oplus, \\ominus \\}$,\n",
        "the entropy is defined as:\n",
        "\n",
        "$$E(X) = - \\sum_{x \\in \\{\\oplus, \\ominus\\}} P(X=x) \\log_2 P(X=x).$$\n",
        "\n",
        "Since $P(X=\\oplus) + P(X=\\ominus) = 1$, $E(X)$ can be rewritten as a function of $P(X=\\oplus)$, substituting $P(X=\\ominus)$ with $1-P(X=\\oplus)$.\n",
        "\n",
        "Letting $p_\\oplus = P(X=\\oplus)$ in short:\n",
        "$$ E(X) = f(p_\\oplus) = -p_\\oplus \\log_2 p_\\oplus - (1-p_\\oplus) \\log_2 (1 - p_\\oplus). $$ Figure below shows how $f(p_\\oplus)$ behaves as $p_\\oplus$ changes.\n",
        "\n",
        "<figure>\n",
        "<center>\n",
        "<img \n",
        " src=\"https://drive.google.com/uc?export=view&id=1PRpDVWLHnLgs0GQyUU-L-_oAteRUKdM_\" height=\"300px\"> \n",
        "<figcaption>Figure 1. Entropy</figcaption></center>\n",
        "</figure>"
      ]
    },
    {
      "cell_type": "markdown",
      "source": [
        "# Problem 1 (Written: 5 pts)"
      ],
      "metadata": {
        "id": "R3O8xnfjJWWK"
      }
    },
    {
      "cell_type": "markdown",
      "metadata": {
        "id": "k4vN-kIzbuaB"
      },
      "source": [
        "**Problem 1 (Written: 5 pts):**\n",
        "\n",
        "Extend the above analysis to a random variable $Y$ that can take on values\n",
        "$\\{ \\alpha, \\beta, \\gamma \\}$. Given $p_\\alpha = P(Y = \\alpha)$, etc.,\n",
        "\n",
        "(1) Derive $E(Y)$ as a function of $p_\\alpha$ and $p_\\beta$:\n",
        "\n",
        "$$E(Y) = f(p_\\alpha, p_\\beta) = $$\n",
        "\n",
        "Note: $p_\\alpha+p_\\beta+p_\\gamma = 1.0$.\n",
        "\n",
        "(2) For which values of  $p_\\alpha$ and $p_\\beta$ \n",
        "does $E(Y)$ become maximal (no need to derive it exactly from $f(p_\\alpha,p_\\beta)$--consider\n",
        "when it is maximal in the 2-value case)? You don't need to derive this from the equation. Just use your intuition.\n",
        "\n",
        "(3) Explain why (you don't need to provide a formal proof).\n"
      ]
    },
    {
      "cell_type": "markdown",
      "metadata": {
        "id": "_D1lKKeuhgTe"
      },
      "source": [
        "**Answer:**\n",
        "\n",
        "(1) $$E(Y) = f(p_\\alpha, p_\\beta) = -p_\\alpha \\log_2 p_\\alpha - -p_\\beta \\log_2 p_\\beta - (1-p_\\alpha-p_\\beta) \\log_2 (1-p_\\alpha-p_\\beta)$$\n",
        "\n",
        "(2) When $ p_\\alpha = 0.33 $ and $ p_\\beta = 0.33 $, E(Y) becomes maximal.\n",
        "\n",
        "(3) Because when data is distributed more evenly, the uncertainty increases. We are more uncertain of which value we get when we pick a random sample. On the other hand, if $ p_\\alpha = 1.0 $, we are 100% sure we will get value $\\alpha$ when we pick a random sample."
      ]
    },
    {
      "cell_type": "markdown",
      "source": [
        "# Problem 2 (Program: 20 pts)"
      ],
      "metadata": {
        "id": "au9uzvGzJmbH"
      }
    },
    {
      "cell_type": "markdown",
      "metadata": {
        "id": "xfS8XRDNfOwu"
      },
      "source": [
        "**Problem 2 (Program: 20 pts)**\n",
        "\n",
        "Write a short program to calculate $f(p_\\alpha, p_\\beta)$ derived above,\n",
        "and obtain the $E(Y) = f(p_\\alpha, p_\\beta)$ values for all combinations of $p_\\alpha, p_\\beta \\in \\{ 0.0, 0.01, 0.02, ... , 0.99, 1.0 \\}$, and plot in 3D (python: plot_surface; or draw by hand). You have to be careful because:\n",
        "\n",
        "* log(0) will throw an error, so you have to check for the occurrence of (0 * log(0)) and make that 0 before log(0) gets evaluated. Alternatively, you can start with a value close to 0: 0.001, 0.01, 0.02,  ..., 0.99, 1.0.\n",
        "\n",
        "* Also, you have to plot for the $(p_\\alpha, p_\\beta)$ that sums up to less than or equal to 1.0 (because $p_\\alpha + p_\\beta + p_\\gamma =1$ must be maintained, and if $p_\\alpha + p_\\beta > 1$, then this constraint cannot be maintained)."
      ]
    },
    {
      "cell_type": "code",
      "metadata": {
        "colab": {
          "base_uri": "https://localhost:8080/",
          "height": 565
        },
        "id": "ShNk3vC6htc8",
        "outputId": "a497dc0d-68c0-4a0b-abdd-29d5a89445d0"
      },
      "source": [
        "# Write your code here.\n",
        "\n",
        "import numpy as np\n",
        "import matplotlib.pyplot as plt\n",
        "import math\n",
        "\n",
        "#-------------------\n",
        "# Entropy function f(Pa,Pb) = E(Y)\n",
        "#-------------------\n",
        "def f(Pa,Pb):\n",
        "  # IMPLEMENT THIS: replace this dummy function with the actual E()\n",
        "  # - be careful with log(0) (cases when either Pa or Pb is 0)\n",
        "  return -Pa * (np.log2(Pa)) - Pb * (np.log2(Pb)) - (1 - Pa - Pb) * (np.log2(1 - Pa - Pb))\n",
        "\n",
        "\n",
        "\n",
        "#-------------------\n",
        "# Plot \n",
        "#-------------------\n",
        "x = np.arange(0.01, 0.99, 0.05)\n",
        "y = np.arange(0.01, 0.99, 0.05)\n",
        "xx, yy = np.meshgrid(x, y)\n",
        "mask=xx+yy<1\n",
        "  \n",
        "#------\n",
        "# 3D surface plot\n",
        "#------\n",
        "\n",
        "fig = plt.figure()\n",
        "ax = fig.add_subplot(111, projection='3d')\n",
        "ax.plot_surface(xx,yy,f(xx,yy)*mask,zorder=0)\n",
        "\n",
        "# Mark point where E is maximum. \n",
        "ax.plot([0.33],[0.33],[f(0.33,0.33)],marker=\"x\",markerfacecolor=\"red\",markersize=20, markeredgecolor=\"red\",zorder=10)\n",
        "\n",
        "#------\n",
        "# show contour plot as well\n",
        "#------\n",
        "\n",
        "fig2 = plt.figure()\n",
        "ax2 = fig2.add_subplot()\n",
        "ax2.contour(xx,yy,f(xx,yy)*mask)\n",
        "# Mark point where E is maximum. \n",
        "\n",
        "ax2.plot(0.33,0.33,marker=\"x\",markerfacecolor=\"red\",markersize=20, markeredgecolor=\"red\")"
      ],
      "execution_count": null,
      "outputs": [
        {
          "output_type": "stream",
          "name": "stderr",
          "text": [
            "/usr/local/lib/python3.7/dist-packages/ipykernel_launcher.py:13: RuntimeWarning: invalid value encountered in log2\n",
            "  del sys.path[0]\n",
            "/usr/local/lib/python3.7/dist-packages/ipykernel_launcher.py:31: UserWarning: Z contains NaN values. This may result in rendering artifacts.\n"
          ]
        },
        {
          "output_type": "execute_result",
          "data": {
            "text/plain": [
              "[<matplotlib.lines.Line2D at 0x7f6972a23d10>]"
            ]
          },
          "metadata": {},
          "execution_count": 65
        },
        {
          "output_type": "display_data",
          "data": {
            "text/plain": [
              "<Figure size 432x288 with 1 Axes>"
            ],
            "image/png": "[encoded data removed]"
          },
          "metadata": {
            "needs_background": "light"
          }
        },
        {
          "output_type": "display_data",
          "data": {
            "text/plain": [
              "<Figure size 432x288 with 1 Axes>"
            ],
            "image/png": "[encoded data removed]"
          },
          "metadata": {
            "needs_background": "light"
          }
        }
      ]
    },
    {
      "cell_type": "code",
      "metadata": {
        "colab": {
          "base_uri": "https://localhost:8080/",
          "height": 282
        },
        "id": "rHxGg7QtiIf_",
        "outputId": "8de33fa7-3d97-492d-d665-39915c52f2bf"
      },
      "source": [
        "mask=xx+yy<=1\n",
        "ff=f(xx,yy)\n",
        "\n",
        "fig3 = plt.figure()\n",
        "ax3 = fig3.add_subplot()\n",
        "\n",
        "# multiply with mask to get rid of invalid region\n",
        "ax3.contour(xx,yy,ff*mask)\n",
        "\n",
        "# plot\n",
        "ax3.plot(0.5,0.5,marker=\"x\",markerfacecolor=\"red\",markersize=20, markeredgecolor=\"red\")\n"
      ],
      "execution_count": null,
      "outputs": [
        {
          "output_type": "execute_result",
          "data": {
            "text/plain": [
              "[<matplotlib.lines.Line2D at 0x7ff0af98a210>]"
            ]
          },
          "metadata": {},
          "execution_count": 2
        },
        {
          "output_type": "display_data",
          "data": {
            "text/plain": [
              "<Figure size 432x288 with 1 Axes>"
            ],
            "image/png": "[encoded data removed]"
          },
          "metadata": {
            "needs_background": "light"
          }
        }
      ]
    },
    {
      "cell_type": "markdown",
      "source": [
        "# Problem 3 (Written: 5 pts)"
      ],
      "metadata": {
        "id": "5VBKeydgJveY"
      }
    },
    {
      "cell_type": "markdown",
      "metadata": {
        "id": "yeCesZ87gQ1b"
      },
      "source": [
        "**Problem 3 (Written: 5 pts)**\n",
        "\n",
        "Based on the insight from above, when you have a random variable $X$ that can take on\n",
        "four different discrete values (say, $\\{a, b, c, d\\}$), then (1) what should \n",
        "$P(X=a)$ etc. be so that the entropy of $X$ is maximized? (2) Also, what is the\n",
        "value of the maximum entropy? (Note: You don't need to provide a formal proof. Simply generalize from what you know for the two value case: $\\oplus$ and $\\ominus$.)\n"
      ]
    },
    {
      "cell_type": "markdown",
      "metadata": {
        "id": "O7vO9Rw1l802"
      },
      "source": [
        "**Answer:**\n",
        "\n",
        "(1)0.25\n",
        "\n",
        "(2) Maximum entropy = 2, the number of outcome is 2 times more than the two value case, therefore it has 2 times of maximum entropy.\n"
      ]
    },
    {
      "cell_type": "code",
      "source": [
        "import math\n",
        "entropy = -0.25*math.log2(0.25) - 0.25*math.log2(0.25) - 0.25*math.log2(0.25) - 0.25*math.log2(0.25) \n",
        "print (entropy)"
      ],
      "metadata": {
        "colab": {
          "base_uri": "https://localhost:8080/"
        },
        "id": "qjsOzJiRXC6g",
        "outputId": "f289907c-bc2b-4008-c1bf-4ce9afd1485e"
      },
      "execution_count": null,
      "outputs": [
        {
          "output_type": "stream",
          "name": "stdout",
          "text": [
            "2.0\n"
          ]
        }
      ]
    },
    {
      "cell_type": "markdown",
      "metadata": {
        "id": "TFGRjOOnhK0S"
      },
      "source": [
        "# Section II: Decision Tree Learning\n",
        "\n",
        "Consider the data set below (Table 1), for problems 4 and 5. Note: Problem 6 has a different data set.\n",
        "\n",
        "<b>TABLE 1</b>\n",
        "\n",
        "||HP|Drivetrain|Body|Price|Target|\n",
        "|---:|:---|:---|:---|:---|:---|\n",
        "|0|low|rwd|sedan|high|N|\n",
        "|1|medium|awd|hatchback|low|Y|\n",
        "|2|high|fwd|suv|high|Y|\n",
        "|3|low|fwd|sedan|low|N|\n",
        "|4|high|awd|hatchback|low|Y|\n",
        "|5|high|rwd|suv|low|N|\n",
        "|6|high|awd|hatchback|high|Y|\n",
        "|7|medium|fwd|suv|low|N|\n",
        "|8|low|fwd|suv|high|N|\n",
        "|9|high|awd|suv|high|Y|\n",
        "|10|medium|awd|sedan|low|Y|\n",
        "|11|high|fwd|hatchback|low|Y|\n",
        "|12|low|awd|sedan|low     |Y|"
      ]
    },
    {
      "cell_type": "markdown",
      "source": [
        "# Problem 4 (Written: 20 pts)"
      ],
      "metadata": {
        "id": "vRiYDxhdJ3c3"
      }
    },
    {
      "cell_type": "markdown",
      "metadata": {
        "id": "aQ351D9ch40w"
      },
      "source": [
        "**Problem 4 (Written: 20 pts)**\n",
        "\n",
        "Consider Table 1. above. \n",
        "\n",
        "Calculate the following **by hand** and show all intermediate results \n",
        "(you may use a calculator for intermediate numerical results).\n",
        "\n",
        "\n",
        "(1) Calculate the entropy of the training set above. Hint: count positive and negative samples, and get their probabilities $p_\\oplus$ and $p_\\ominus$.\n",
        "\n",
        "(2) Calculate the information gain for each of the four attributes. Hint: split the data set based on the attribute values for each attribute, and compute the information gain. For example, for the **Drivetrain** attribute, there are three possible values: awd, fwd, and rwd. \n",
        "\n",
        "(3) Which one is the best attribute to test first?"
      ]
    },
    {
      "cell_type": "markdown",
      "metadata": {
        "id": "sBRsBWginknm"
      },
      "source": [
        "**Answer:**\n",
        "\n",
        "(1) -(8/13) * log(8/13) - (5/13) * log(5/13) = 0.961\n",
        "\n",
        "(2) Show all intermediate steps, and include drawings of the partial tree. You may use the python code at the very end ([Extra Code] section) for plotting.\n",
        "\n",
        "Gain(S,HP) = 0.961 - 4/13 * 0.811 - 3/13 * 0.918 - 6/13 * 0.650 = 0.200\n",
        "\n",
        "Gain(S,Drivetrain) = 0.961 - 2/13 * 0 - 6/13 * 0 - 5/13 * 0.971 = 0.588\n",
        "\n",
        "Gain(S,Body) = 0.961 - 4/13 * 1 - 4/13 * 0 - 5/13 * 0.971 = 0.280\n",
        "\n",
        "Gain(S,Price) = 0.961 - 5/13 * 0.971 - 8/13 * 0.954 = 0\n",
        "\n",
        "(3) Drivetrain, because it has largest information gain"
      ]
    },
    {
      "cell_type": "code",
      "source": [
        "import math\n",
        "import graphviz\n",
        "\n",
        "entropy = -(5/8)*math.log2(5/8) - (3/8)*math.log2(3/8) \n",
        "print (entropy)\n",
        "\n",
        "# 1. create graph object\n",
        "dot = graphviz.Digraph(comment='Decision Tree')\n",
        "\n",
        "# 2. Add nodes\n",
        "dot.node('P',label='HP',shape='box')\n",
        "dot.node('L',label='[1+, 3-]  E = 0.811', shape='plaintext')\n",
        "dot.node('M',label='[2+, 1-]  E = 0.918', shape='plaintext')\n",
        "dot.node('H',label='[5+, 1-]  E = 0.650', shape='plaintext')\n",
        "\n",
        "# 3. Add connections\n",
        "dot.edge('P','L',label='low')\n",
        "dot.edge('P','M',label='medium')\n",
        "dot.edge('P','H',label='high')\n",
        "\n",
        "# 4. Plot tree\n",
        "dot"
      ],
      "metadata": {
        "colab": {
          "base_uri": "https://localhost:8080/",
          "height": 214
        },
        "id": "CD6s7el5vIRy",
        "outputId": "eb10694a-276a-4751-f047-0bfc6ba158f8"
      },
      "execution_count": 27,
      "outputs": [
        {
          "output_type": "stream",
          "name": "stdout",
          "text": [
            "0.9544340029249649\n"
          ]
        },
        {
          "output_type": "execute_result",
          "data": {
            "text/plain": [
              "<graphviz.dot.Digraph at 0x7f8c0e7f6bd0>"
            ],
            "image/svg+xml": "<?xml version=\"1.0\" encoding=\"UTF-8\" standalone=\"no\"?>\n<!DOCTYPE svg PUBLIC \"-//W3C//DTD SVG 1.1//EN\"\n \"http://www.w3.org/Graphics/SVG/1.1/DTD/svg11.dtd\">\n<!-- Generated by graphviz version 2.40.1 (20161225.0304)\n -->\n<!-- Title: %3 Pages: 1 -->\n<svg width=\"425pt\" height=\"131pt\"\n viewBox=\"0.00 0.00 424.50 131.00\" xmlns=\"http://www.w3.org/2000/svg\" xmlns:xlink=\"http://www.w3.org/1999/xlink\">\n<g id=\"graph0\" class=\"graph\" transform=\"scale(1 1) rotate(0) translate(4 127)\">\n<title>%3</title>\n<polygon fill=\"#ffffff\" stroke=\"transparent\" points=\"-4,4 -4,-127 420.5,-127 420.5,4 -4,4\"/>\n<!-- P -->\n<g id=\"node1\" class=\"node\">\n<title>P</title>\n<polygon fill=\"none\" stroke=\"#000000\" points=\"235,-123 181,-123 181,-87 235,-87 235,-123\"/>\n<text text-anchor=\"middle\" x=\"208\" y=\"-101.3\" font-family=\"Times,serif\" font-size=\"14.00\" fill=\"#000000\">HP</text>\n</g>\n<!-- L -->\n<g id=\"node2\" class=\"node\">\n<title>L</title>\n<text text-anchor=\"middle\" x=\"63\" y=\"-14.3\" font-family=\"Times,serif\" font-size=\"14.00\" fill=\"#000000\">[1+, 3&#45;] &#160;E = 0.811</text>\n</g>\n<!-- P&#45;&gt;L -->\n<g id=\"edge1\" class=\"edge\">\n<title>P&#45;&gt;L</title>\n<path fill=\"none\" stroke=\"#000000\" d=\"M180.7266,-88.636C158.5151,-75.309 126.874,-56.3244 101.9873,-41.3924\"/>\n<polygon fill=\"#000000\" stroke=\"#000000\" points=\"103.5298,-38.2363 93.1542,-36.0925 99.9283,-44.2387 103.5298,-38.2363\"/>\n<text text-anchor=\"middle\" x=\"156\" y=\"-57.8\" font-family=\"Times,serif\" font-size=\"14.00\" fill=\"#000000\">low</text>\n</g>\n<!-- M -->\n<g id=\"node3\" class=\"node\">\n<title>M</title>\n<text text-anchor=\"middle\" x=\"208\" y=\"-14.3\" font-family=\"Times,serif\" font-size=\"14.00\" fill=\"#000000\">[2+, 1&#45;] &#160;E = 0.918</text>\n</g>\n<!-- P&#45;&gt;M -->\n<g id=\"edge2\" class=\"edge\">\n<title>P&#45;&gt;M</title>\n<path fill=\"none\" stroke=\"#000000\" d=\"M208,-86.9735C208,-75.1918 208,-59.5607 208,-46.1581\"/>\n<polygon fill=\"#000000\" stroke=\"#000000\" points=\"211.5001,-46.0033 208,-36.0034 204.5001,-46.0034 211.5001,-46.0033\"/>\n<text text-anchor=\"middle\" x=\"232\" y=\"-57.8\" font-family=\"Times,serif\" font-size=\"14.00\" fill=\"#000000\">medium</text>\n</g>\n<!-- H -->\n<g id=\"node4\" class=\"node\">\n<title>H</title>\n<text text-anchor=\"middle\" x=\"353\" y=\"-14.3\" font-family=\"Times,serif\" font-size=\"14.00\" fill=\"#000000\">[5+, 1&#45;] &#160;E = 0.650</text>\n</g>\n<!-- P&#45;&gt;H -->\n<g id=\"edge3\" class=\"edge\">\n<title>P&#45;&gt;H</title>\n<path fill=\"none\" stroke=\"#000000\" d=\"M235.2734,-88.636C257.4849,-75.309 289.126,-56.3244 314.0127,-41.3924\"/>\n<polygon fill=\"#000000\" stroke=\"#000000\" points=\"316.0717,-44.2387 322.8458,-36.0925 312.4702,-38.2363 316.0717,-44.2387\"/>\n<text text-anchor=\"middle\" x=\"302.5\" y=\"-57.8\" font-family=\"Times,serif\" font-size=\"14.00\" fill=\"#000000\">high</text>\n</g>\n</g>\n</svg>\n"
          },
          "metadata": {},
          "execution_count": 27
        }
      ]
    },
    {
      "cell_type": "code",
      "source": [
        "import graphviz\n",
        "dot2 = graphviz.Digraph(comment='Decision Tree')\n",
        "\n",
        "dot2.node('P',label='Drivetrain',shape='box')\n",
        "dot2.node('r',label='[0+, 2-]  E = 0', shape='plaintext')\n",
        "dot2.node('a',label='[6+, 0-]  E = 0', shape='plaintext')\n",
        "dot2.node('f',label='[2+, 3-]  E = 0.971', shape='plaintext')\n",
        "\n",
        "dot2.edge('P','r',label='rws')\n",
        "dot2.edge('P','a',label='awd')\n",
        "dot2.edge('P','f',label='fwd')\n",
        "\n",
        "dot2"
      ],
      "metadata": {
        "colab": {
          "base_uri": "https://localhost:8080/",
          "height": 196
        },
        "id": "wxom8Sej9YBg",
        "outputId": "9e39441d-a6fb-4769-d7bb-f8db4df740b9"
      },
      "execution_count": 28,
      "outputs": [
        {
          "output_type": "execute_result",
          "data": {
            "text/plain": [
              "<graphviz.dot.Digraph at 0x7f8c0e772790>"
            ],
            "image/svg+xml": "<?xml version=\"1.0\" encoding=\"UTF-8\" standalone=\"no\"?>\n<!DOCTYPE svg PUBLIC \"-//W3C//DTD SVG 1.1//EN\"\n \"http://www.w3.org/Graphics/SVG/1.1/DTD/svg11.dtd\">\n<!-- Generated by graphviz version 2.40.1 (20161225.0304)\n -->\n<!-- Title: %3 Pages: 1 -->\n<svg width=\"373pt\" height=\"131pt\"\n viewBox=\"0.00 0.00 373.00 131.00\" xmlns=\"http://www.w3.org/2000/svg\" xmlns:xlink=\"http://www.w3.org/1999/xlink\">\n<g id=\"graph0\" class=\"graph\" transform=\"scale(1 1) rotate(0) translate(4 127)\">\n<title>%3</title>\n<polygon fill=\"#ffffff\" stroke=\"transparent\" points=\"-4,4 -4,-127 369,-127 369,4 -4,4\"/>\n<!-- P -->\n<g id=\"node1\" class=\"node\">\n<title>P</title>\n<polygon fill=\"none\" stroke=\"#000000\" points=\"206.5,-123 132.5,-123 132.5,-87 206.5,-87 206.5,-123\"/>\n<text text-anchor=\"middle\" x=\"169.5\" y=\"-101.3\" font-family=\"Times,serif\" font-size=\"14.00\" fill=\"#000000\">Drivetrain</text>\n</g>\n<!-- r -->\n<g id=\"node2\" class=\"node\">\n<title>r</title>\n<text text-anchor=\"middle\" x=\"50.5\" y=\"-14.3\" font-family=\"Times,serif\" font-size=\"14.00\" fill=\"#000000\">[0+, 2&#45;] &#160;E = 0</text>\n</g>\n<!-- P&#45;&gt;r -->\n<g id=\"edge1\" class=\"edge\">\n<title>P&#45;&gt;r</title>\n<path fill=\"none\" stroke=\"#000000\" d=\"M144.8431,-86.9735C127.0525,-73.9669 102.845,-56.269 83.4058,-42.0571\"/>\n<polygon fill=\"#000000\" stroke=\"#000000\" points=\"85.2636,-39.0798 75.1253,-36.0034 81.1323,-44.7307 85.2636,-39.0798\"/>\n<text text-anchor=\"middle\" x=\"128\" y=\"-57.8\" font-family=\"Times,serif\" font-size=\"14.00\" fill=\"#000000\">rws</text>\n</g>\n<!-- a -->\n<g id=\"node3\" class=\"node\">\n<title>a</title>\n<text text-anchor=\"middle\" x=\"169.5\" y=\"-14.3\" font-family=\"Times,serif\" font-size=\"14.00\" fill=\"#000000\">[6+, 0&#45;] &#160;E = 0</text>\n</g>\n<!-- P&#45;&gt;a -->\n<g id=\"edge2\" class=\"edge\">\n<title>P&#45;&gt;a</title>\n<path fill=\"none\" stroke=\"#000000\" d=\"M169.5,-86.9735C169.5,-75.1918 169.5,-59.5607 169.5,-46.1581\"/>\n<polygon fill=\"#000000\" stroke=\"#000000\" points=\"173.0001,-46.0033 169.5,-36.0034 166.0001,-46.0034 173.0001,-46.0033\"/>\n<text text-anchor=\"middle\" x=\"182\" y=\"-57.8\" font-family=\"Times,serif\" font-size=\"14.00\" fill=\"#000000\">awd</text>\n</g>\n<!-- f -->\n<g id=\"node4\" class=\"node\">\n<title>f</title>\n<text text-anchor=\"middle\" x=\"301.5\" y=\"-14.3\" font-family=\"Times,serif\" font-size=\"14.00\" fill=\"#000000\">[2+, 3&#45;] &#160;E = 0.971</text>\n</g>\n<!-- P&#45;&gt;f -->\n<g id=\"edge3\" class=\"edge\">\n<title>P&#45;&gt;f</title>\n<path fill=\"none\" stroke=\"#000000\" d=\"M196.8505,-86.9735C216.7616,-73.8503 243.9189,-55.9512 265.5784,-41.6756\"/>\n<polygon fill=\"#000000\" stroke=\"#000000\" points=\"267.7611,-44.4289 274.1846,-36.0034 263.9088,-38.5842 267.7611,-44.4289\"/>\n<text text-anchor=\"middle\" x=\"254\" y=\"-57.8\" font-family=\"Times,serif\" font-size=\"14.00\" fill=\"#000000\">fwd</text>\n</g>\n</g>\n</svg>\n"
          },
          "metadata": {},
          "execution_count": 28
        }
      ]
    },
    {
      "cell_type": "code",
      "source": [
        "import graphviz\n",
        "dot3 = graphviz.Digraph(comment='Decision Tree')\n",
        "\n",
        "dot3.node('P',label='Body',shape='box')\n",
        "dot3.node('r',label='[2+, 2]  E = 1', shape='plaintext')\n",
        "dot3.node('a',label='[4+, 0-]  E = 0', shape='plaintext')\n",
        "dot3.node('f',label='[2+, 3-]  E = 0.971', shape='plaintext')\n",
        "\n",
        "dot3.edge('P','r',label='sedan')\n",
        "dot3.edge('P','a',label='hatchback')\n",
        "dot3.edge('P','f',label='suv')\n",
        "\n",
        "dot3"
      ],
      "metadata": {
        "colab": {
          "base_uri": "https://localhost:8080/",
          "height": 196
        },
        "id": "6khgP_C3SXjN",
        "outputId": "29b85bf8-1332-40a0-eee1-3c9715d0eacf"
      },
      "execution_count": 25,
      "outputs": [
        {
          "output_type": "execute_result",
          "data": {
            "text/plain": [
              "<graphviz.dot.Digraph at 0x7f8c0e7d8290>"
            ],
            "image/svg+xml": "<?xml version=\"1.0\" encoding=\"UTF-8\" standalone=\"no\"?>\n<!DOCTYPE svg PUBLIC \"-//W3C//DTD SVG 1.1//EN\"\n \"http://www.w3.org/Graphics/SVG/1.1/DTD/svg11.dtd\">\n<!-- Generated by graphviz version 2.40.1 (20161225.0304)\n -->\n<!-- Title: %3 Pages: 1 -->\n<svg width=\"369pt\" height=\"131pt\"\n viewBox=\"0.00 0.00 368.50 131.00\" xmlns=\"http://www.w3.org/2000/svg\" xmlns:xlink=\"http://www.w3.org/1999/xlink\">\n<g id=\"graph0\" class=\"graph\" transform=\"scale(1 1) rotate(0) translate(4 127)\">\n<title>%3</title>\n<polygon fill=\"#ffffff\" stroke=\"transparent\" points=\"-4,4 -4,-127 364.5,-127 364.5,4 -4,4\"/>\n<!-- P -->\n<g id=\"node1\" class=\"node\">\n<title>P</title>\n<polygon fill=\"none\" stroke=\"#000000\" points=\"192,-123 138,-123 138,-87 192,-87 192,-123\"/>\n<text text-anchor=\"middle\" x=\"165\" y=\"-101.3\" font-family=\"Times,serif\" font-size=\"14.00\" fill=\"#000000\">Body</text>\n</g>\n<!-- r -->\n<g id=\"node2\" class=\"node\">\n<title>r</title>\n<text text-anchor=\"middle\" x=\"48\" y=\"-14.3\" font-family=\"Times,serif\" font-size=\"14.00\" fill=\"#000000\">[2+, 2] &#160;E = 1</text>\n</g>\n<!-- P&#45;&gt;r -->\n<g id=\"edge1\" class=\"edge\">\n<title>P&#45;&gt;r</title>\n<path fill=\"none\" stroke=\"#000000\" d=\"M140.7575,-86.9735C123.2659,-73.9669 99.4652,-56.269 80.3527,-42.0571\"/>\n<polygon fill=\"#000000\" stroke=\"#000000\" points=\"82.3245,-39.1618 72.2114,-36.0034 78.1476,-44.7791 82.3245,-39.1618\"/>\n<text text-anchor=\"middle\" x=\"130.5\" y=\"-57.8\" font-family=\"Times,serif\" font-size=\"14.00\" fill=\"#000000\">sedan</text>\n</g>\n<!-- a -->\n<g id=\"node3\" class=\"node\">\n<title>a</title>\n<text text-anchor=\"middle\" x=\"165\" y=\"-14.3\" font-family=\"Times,serif\" font-size=\"14.00\" fill=\"#000000\">[4+, 0&#45;] &#160;E = 0</text>\n</g>\n<!-- P&#45;&gt;a -->\n<g id=\"edge2\" class=\"edge\">\n<title>P&#45;&gt;a</title>\n<path fill=\"none\" stroke=\"#000000\" d=\"M165,-86.9735C165,-75.1918 165,-59.5607 165,-46.1581\"/>\n<polygon fill=\"#000000\" stroke=\"#000000\" points=\"168.5001,-46.0033 165,-36.0034 161.5001,-46.0034 168.5001,-46.0033\"/>\n<text text-anchor=\"middle\" x=\"194\" y=\"-57.8\" font-family=\"Times,serif\" font-size=\"14.00\" fill=\"#000000\">hatchback</text>\n</g>\n<!-- f -->\n<g id=\"node4\" class=\"node\">\n<title>f</title>\n<text text-anchor=\"middle\" x=\"297\" y=\"-14.3\" font-family=\"Times,serif\" font-size=\"14.00\" fill=\"#000000\">[2+, 3&#45;] &#160;E = 0.971</text>\n</g>\n<!-- P&#45;&gt;f -->\n<g id=\"edge3\" class=\"edge\">\n<title>P&#45;&gt;f</title>\n<path fill=\"none\" stroke=\"#000000\" d=\"M192.2231,-90.0032C203.1828,-83.7574 215.8443,-76.2747 227,-69 239.77,-60.6726 253.405,-50.9415 265.2167,-42.2249\"/>\n<polygon fill=\"#000000\" stroke=\"#000000\" points=\"267.5246,-44.8702 273.4567,-36.0917 263.3451,-39.2549 267.5246,-44.8702\"/>\n<text text-anchor=\"middle\" x=\"258.5\" y=\"-57.8\" font-family=\"Times,serif\" font-size=\"14.00\" fill=\"#000000\">suv</text>\n</g>\n</g>\n</svg>\n"
          },
          "metadata": {},
          "execution_count": 25
        }
      ]
    },
    {
      "cell_type": "code",
      "source": [
        "import graphviz\n",
        "dot4 = graphviz.Digraph(comment='Decision Tree')\n",
        "\n",
        "dot4.node('P',label='Body',shape='box')\n",
        "dot4.node('r',label='[3+, 2-]  E = 0.971', shape='plaintext')\n",
        "dot4.node('a',label='[5+, 3-]  E = 0.954', shape='plaintext')\n",
        "\n",
        "dot4.edge('P','r',label='high')\n",
        "dot4.edge('P','a',label='low')\n",
        "\n",
        "dot4"
      ],
      "metadata": {
        "colab": {
          "base_uri": "https://localhost:8080/",
          "height": 196
        },
        "id": "X_DnpYJMSyZM",
        "outputId": "0160de4a-b4ca-4d24-c702-3b3723528a46"
      },
      "execution_count": 26,
      "outputs": [
        {
          "output_type": "execute_result",
          "data": {
            "text/plain": [
              "<graphviz.dot.Digraph at 0x7f8c0e7f8590>"
            ],
            "image/svg+xml": "<?xml version=\"1.0\" encoding=\"UTF-8\" standalone=\"no\"?>\n<!DOCTYPE svg PUBLIC \"-//W3C//DTD SVG 1.1//EN\"\n \"http://www.w3.org/Graphics/SVG/1.1/DTD/svg11.dtd\">\n<!-- Generated by graphviz version 2.40.1 (20161225.0304)\n -->\n<!-- Title: %3 Pages: 1 -->\n<svg width=\"280pt\" height=\"131pt\"\n viewBox=\"0.00 0.00 280.00 131.00\" xmlns=\"http://www.w3.org/2000/svg\" xmlns:xlink=\"http://www.w3.org/1999/xlink\">\n<g id=\"graph0\" class=\"graph\" transform=\"scale(1 1) rotate(0) translate(4 127)\">\n<title>%3</title>\n<polygon fill=\"#ffffff\" stroke=\"transparent\" points=\"-4,4 -4,-127 276,-127 276,4 -4,4\"/>\n<!-- P -->\n<g id=\"node1\" class=\"node\">\n<title>P</title>\n<polygon fill=\"none\" stroke=\"#000000\" points=\"162.5,-123 108.5,-123 108.5,-87 162.5,-87 162.5,-123\"/>\n<text text-anchor=\"middle\" x=\"135.5\" y=\"-101.3\" font-family=\"Times,serif\" font-size=\"14.00\" fill=\"#000000\">Body</text>\n</g>\n<!-- r -->\n<g id=\"node2\" class=\"node\">\n<title>r</title>\n<text text-anchor=\"middle\" x=\"63.5\" y=\"-14.3\" font-family=\"Times,serif\" font-size=\"14.00\" fill=\"#000000\">[3+, 2&#45;] &#160;E = 0.971</text>\n</g>\n<!-- P&#45;&gt;r -->\n<g id=\"edge1\" class=\"edge\">\n<title>P&#45;&gt;r</title>\n<path fill=\"none\" stroke=\"#000000\" d=\"M120.5816,-86.9735C110.2519,-74.4919 96.3468,-57.6899 84.8471,-43.7944\"/>\n<polygon fill=\"#000000\" stroke=\"#000000\" points=\"87.4714,-41.4758 78.3993,-36.0034 82.0787,-45.9388 87.4714,-41.4758\"/>\n<text text-anchor=\"middle\" x=\"118\" y=\"-57.8\" font-family=\"Times,serif\" font-size=\"14.00\" fill=\"#000000\">high</text>\n</g>\n<!-- a -->\n<g id=\"node3\" class=\"node\">\n<title>a</title>\n<text text-anchor=\"middle\" x=\"208.5\" y=\"-14.3\" font-family=\"Times,serif\" font-size=\"14.00\" fill=\"#000000\">[5+, 3&#45;] &#160;E = 0.954</text>\n</g>\n<!-- P&#45;&gt;a -->\n<g id=\"edge2\" class=\"edge\">\n<title>P&#45;&gt;a</title>\n<path fill=\"none\" stroke=\"#000000\" d=\"M150.6256,-86.9735C161.0988,-74.4919 175.197,-57.6899 186.8565,-43.7944\"/>\n<polygon fill=\"#000000\" stroke=\"#000000\" points=\"189.6471,-45.9136 193.3937,-36.0034 184.2847,-41.4142 189.6471,-45.9136\"/>\n<text text-anchor=\"middle\" x=\"186.5\" y=\"-57.8\" font-family=\"Times,serif\" font-size=\"14.00\" fill=\"#000000\">low</text>\n</g>\n</g>\n</svg>\n"
          },
          "metadata": {},
          "execution_count": 26
        }
      ]
    },
    {
      "cell_type": "markdown",
      "source": [
        "# Problem 5 (Program: 25 pts)"
      ],
      "metadata": {
        "id": "5nKFrfyeKZvR"
      }
    },
    {
      "cell_type": "markdown",
      "metadata": {
        "id": "yw8DSNU7k7Uj"
      },
      "source": [
        "**Problem 5 (Program: 25 pts)**\n",
        "Again, consider the data set in  Table 1 above.\n",
        "\n",
        "(1) Write a short program to compute the information gain, given the original data set's postive/negative sample count, and the resulting branches based on the attribute values and their positive/negative sample counts. Below is a stub code, which shows the testing scenario with the situation similar to the illustration shown in the figure below (Figure 2). Note that the \"after\" matrix can have an arbitrary number of rows (for example, if the attribute has three possible values, there will be three rows in the matrix). The function must \n",
        "\n",
        "1. support attributes with an arbitrary number of attribute values, and \n",
        "2. check for error in the arguments (if +/- count before and after all sums up to be the same).\n",
        "\n",
        "(2) Using the data set in Table 1, for all four attributes, compute the info gain for each, using your info_gain() function, and report the resulting values.\n",
        "\n",
        "(3) After choosing the best attribute from step (2), repeat the process for the resulting branches (the subsets), to select the next attribute to test for each branch. If some branch is already a leaf, no need to repeat the info_gain computation.\n",
        "\n",
        "<figure>\n",
        "<center>\n",
        "<img \n",
        " src=\"https://drive.google.com/uc?export=view&id=1mzt9xb2L7Xwf7Ka6vrt51b_Ws58M-zPT\" height=\"450px\"> \n",
        "<figcaption><b>Figure 2.</b> Information Gain example. Present your results in this style.</figcaption></center>\n",
        "</figure>\n"
      ]
    },
    {
      "cell_type": "markdown",
      "metadata": {
        "id": "BdxIe9msxAi3"
      },
      "source": [
        "**Answer:** \n",
        "\n",
        "(1) Fill out the code cell below\n",
        "\n",
        "(2) Info gain for \n",
        "* HP : info gain = 0.200\n",
        "* Drivetrain : info gain = 0.588\n",
        "* Body : info gain = 0.280\n",
        "* Price : info gain = 0\n",
        "\n",
        "(3) Best attribute from step (2) = Drivetrain \n",
        "* Branch rwd: BEST = N/A \n",
        " * Attr HP: info gain = 0\n",
        " * Attr Body: info gain = 0 \n",
        " * Attr Price: info gain = 0\n",
        " * Note: Attr X, Y, ... $\\in \\{ HP, Drivetrain, Body, Price \\} - \\{BEST\\}$...\n",
        "* Branch awd: BEST = N/A  \n",
        " * Attr HP: info gain = 0\n",
        " * Attr Body: info gain = 0 \n",
        " * Attr Price: info gain = 0\n",
        "* Branch fwd: BEST = HP  \n",
        " * Attr HP: info gain = 0.971\n",
        " * Attr Body: info gain = 0.420 \n",
        " * Attr Price: info gain = 0.020\n",
        " \n",
        " Best attribute from above: HP \n",
        " \n",
        " Every branch has entropy of 0.\n",
        "\n",
        " Result is shown in the graph below"
      ]
    },
    {
      "cell_type": "code",
      "metadata": {
        "colab": {
          "base_uri": "https://localhost:8080/",
          "height": 680
        },
        "id": "kr3SWgmboBuE",
        "outputId": "af177706-72b4-41c6-9b25-c38cb162117e"
      },
      "source": [
        "# Problem 5 Code \n",
        "\n",
        "import numpy as np\n",
        "import matplotlib.pyplot as plt\n",
        "import graphviz\n",
        "\n",
        "# IMPLEMENT THE FUNCTIONS BELOW\n",
        "\n",
        "# 1. define your entropy function here. Note: this has to be defined specifically for this case: p+ and p-. \n",
        "#  The entropy function defined in problem 2 is for three possible values, not +/-.  \n",
        "def Entropy(P_plus):\n",
        "  P_minus = 1-P_plus \n",
        "  if P_plus == 0:\n",
        "    return - P_minus * (np.log2(P_minus))\n",
        "  elif P_plus == 1:\n",
        "    return - P_plus * (np.log2(P_plus))\n",
        "  return -P_plus * (np.log2(P_plus)) - P_minus * (np.log2(P_minus))\n",
        "\n",
        "# 2. define your info_gain function here \n",
        "def info_gain(before, after, rows):\n",
        "  # check if argument is valid\n",
        "  pos = before[0]\n",
        "  neg = before[1]\n",
        "  for i in range (rows):\n",
        "    pos = pos - after[i][0]\n",
        "    neg = neg - after[i][1]\n",
        "  if pos != 0 or neg != 0:\n",
        "    return \"invalid\"\n",
        "\n",
        "  prev = Entropy(before[0]/(before[0] + before[1]))\n",
        "  curr = 0\n",
        "  for i in range (rows):\n",
        "    if after[i][0] + after[i][1] == 0:\n",
        "      curr = curr\n",
        "    else:\n",
        "      curr = curr + (after[i][0] + after[i][1])/(before[0] + before[1])*Entropy(after[i][0]/(after[i][0] + after[i][1]))\n",
        "  return prev - curr\n",
        "\n",
        "# 3. Test function (see Figure 2 above)\n",
        "\n",
        "before = np.array([8,5])  # +9, -5 is entered like this (9 positive,5 negative samples)\n",
        "after  = np.array([[1,3], [2,1], [5,1]]) # two rows, for two attribute values High and Normal, +3/-4 and +6/-1 \n",
        "print('HP info gain: ' + str(info_gain(before, after, after.shape[0])))\n",
        "\n",
        "before = np.array([8,5])  \n",
        "after  = np.array([[0,2], [6,0], [2,3]]) \n",
        "print('Drivetrain info gain: ' + str(info_gain(before, after, after.shape[0])))\n",
        "\n",
        "before = np.array([8,5])  \n",
        "after  = np.array([[2,2], [4,0], [2,3]]) \n",
        "print('Body info gain: ' + str(info_gain(before, after, after.shape[0])))\n",
        "\n",
        "before = np.array([8,5])  \n",
        "after  = np.array([[3,2], [5,3]]) \n",
        "print('Price info gain: ' + str(info_gain(before, after, after.shape[0])))\n",
        "print('Best attribute: Drivetrain')\n",
        "\n",
        "print('--------------------------- second level')\n",
        "\n",
        "before = np.array([2,3])  \n",
        "after  = np.array([[0,2], [0,1], [2,0]]) \n",
        "print('HP info gain: ' + str(info_gain(before, after, after.shape[0])))\n",
        "\n",
        "before = np.array([2,3])  \n",
        "after  = np.array([[0,1], [1,0], [1,2]]) \n",
        "print('Body info gain: ' + str(info_gain(before, after, after.shape[0])))\n",
        "\n",
        "before = np.array([2,3])  \n",
        "after  = np.array([[1,1], [1,2]]) \n",
        "print('Price info gain: ' + str(info_gain(before, after, after.shape[0])))\n",
        "print('Best attribute: HP')\n",
        "\n",
        "dot = graphviz.Digraph(comment='Decision Tree')\n",
        "\n",
        "dot.node('Root',label='[8+, 5-]  E = 0.961', shape='plaintext')\n",
        "dot.node('P',label='Drivetrain',shape='box')\n",
        "dot.node('r',label='[0+, 2-]  E = 0', shape='plaintext')\n",
        "dot.node('a',label='[6+, 0-]  E = 0', shape='plaintext')\n",
        "dot.node('f',label='[2+, 3-]  E = 0.971', shape='plaintext')\n",
        "dot.node('HP',label='HP',shape='box')\n",
        "dot.node('l',label='[0+, 2-]  E = 0', shape='plaintext')\n",
        "dot.node('m',label='[0+, 1-]  E = 0', shape='plaintext')\n",
        "dot.node('h',label='[2+, 0-]  E = 0', shape='plaintext')\n",
        "\n",
        "dot.edge('Root','P',label='')\n",
        "dot.edge('P','r',label='rws')\n",
        "dot.edge('P','a',label='awd')\n",
        "dot.edge('P','f',label='fwd')\n",
        "dot.edge('HP','l',label='low')\n",
        "dot.edge('HP','m',label='middle')\n",
        "dot.edge('HP','h',label='high')\n",
        "dot.edge('f','HP',label='')\n",
        "\n",
        "dot\n"
      ],
      "execution_count": 11,
      "outputs": [
        {
          "output_type": "stream",
          "name": "stdout",
          "text": [
            "HP info gain: 0.1996877947313277\n",
            "Drivetrain info gain: 0.5877940683941572\n",
            "Body info gain: 0.28010176070184944\n",
            "Price info gain: 0.00045006659417867745\n",
            "Best attribute: Drivetrain\n",
            "--------------------------- second level\n",
            "HP info gain: 0.9709505944546686\n",
            "Body info gain: 0.4199730940219749\n",
            "Price info gain: 0.01997309402197489\n",
            "Best attribute: HP\n"
          ]
        },
        {
          "output_type": "execute_result",
          "data": {
            "text/plain": [
              "<graphviz.dot.Digraph at 0x7fd761dde490>"
            ],
            "image/svg+xml": "<?xml version=\"1.0\" encoding=\"UTF-8\" standalone=\"no\"?>\n<!DOCTYPE svg PUBLIC \"-//W3C//DTD SVG 1.1//EN\"\n \"http://www.w3.org/Graphics/SVG/1.1/DTD/svg11.dtd\">\n<!-- Generated by graphviz version 2.40.1 (20161225.0304)\n -->\n<!-- Title: %3 Pages: 1 -->\n<svg width=\"479pt\" height=\"364pt\"\n viewBox=\"0.00 0.00 479.00 364.00\" xmlns=\"http://www.w3.org/2000/svg\" xmlns:xlink=\"http://www.w3.org/1999/xlink\">\n<g id=\"graph0\" class=\"graph\" transform=\"scale(1 1) rotate(0) translate(4 360)\">\n<title>%3</title>\n<polygon fill=\"#ffffff\" stroke=\"transparent\" points=\"-4,4 -4,-360 475,-360 475,4 -4,4\"/>\n<!-- Root -->\n<g id=\"node1\" class=\"node\">\n<title>Root</title>\n<text text-anchor=\"middle\" x=\"169.5\" y=\"-334.3\" font-family=\"Times,serif\" font-size=\"14.00\" fill=\"#000000\">[8+, 5&#45;] &#160;E = 0.961</text>\n</g>\n<!-- P -->\n<g id=\"node2\" class=\"node\">\n<title>P</title>\n<polygon fill=\"none\" stroke=\"#000000\" points=\"206.5,-283 132.5,-283 132.5,-247 206.5,-247 206.5,-283\"/>\n<text text-anchor=\"middle\" x=\"169.5\" y=\"-261.3\" font-family=\"Times,serif\" font-size=\"14.00\" fill=\"#000000\">Drivetrain</text>\n</g>\n<!-- Root&#45;&gt;P -->\n<g id=\"edge1\" class=\"edge\">\n<title>Root&#45;&gt;P</title>\n<path fill=\"none\" stroke=\"#000000\" d=\"M169.5,-319.9551C169.5,-311.8828 169.5,-302.1764 169.5,-293.1817\"/>\n<polygon fill=\"#000000\" stroke=\"#000000\" points=\"173.0001,-293.0903 169.5,-283.0904 166.0001,-293.0904 173.0001,-293.0903\"/>\n</g>\n<!-- r -->\n<g id=\"node3\" class=\"node\">\n<title>r</title>\n<text text-anchor=\"middle\" x=\"50.5\" y=\"-174.3\" font-family=\"Times,serif\" font-size=\"14.00\" fill=\"#000000\">[0+, 2&#45;] &#160;E = 0</text>\n</g>\n<!-- P&#45;&gt;r -->\n<g id=\"edge2\" class=\"edge\">\n<title>P&#45;&gt;r</title>\n<path fill=\"none\" stroke=\"#000000\" d=\"M144.8431,-246.9735C127.0525,-233.9669 102.845,-216.269 83.4058,-202.0571\"/>\n<polygon fill=\"#000000\" stroke=\"#000000\" points=\"85.2636,-199.0798 75.1253,-196.0034 81.1323,-204.7307 85.2636,-199.0798\"/>\n<text text-anchor=\"middle\" x=\"127\" y=\"-217.8\" font-family=\"Times,serif\" font-size=\"14.00\" fill=\"#000000\">rws</text>\n</g>\n<!-- a -->\n<g id=\"node4\" class=\"node\">\n<title>a</title>\n<text text-anchor=\"middle\" x=\"169.5\" y=\"-174.3\" font-family=\"Times,serif\" font-size=\"14.00\" fill=\"#000000\">[6+, 0&#45;] &#160;E = 0</text>\n</g>\n<!-- P&#45;&gt;a -->\n<g id=\"edge3\" class=\"edge\">\n<title>P&#45;&gt;a</title>\n<path fill=\"none\" stroke=\"#000000\" d=\"M169.5,-246.9735C169.5,-235.1918 169.5,-219.5607 169.5,-206.1581\"/>\n<polygon fill=\"#000000\" stroke=\"#000000\" points=\"173.0001,-206.0033 169.5,-196.0034 166.0001,-206.0034 173.0001,-206.0033\"/>\n<text text-anchor=\"middle\" x=\"182\" y=\"-217.8\" font-family=\"Times,serif\" font-size=\"14.00\" fill=\"#000000\">awd</text>\n</g>\n<!-- f -->\n<g id=\"node5\" class=\"node\">\n<title>f</title>\n<text text-anchor=\"middle\" x=\"301.5\" y=\"-174.3\" font-family=\"Times,serif\" font-size=\"14.00\" fill=\"#000000\">[2+, 3&#45;] &#160;E = 0.971</text>\n</g>\n<!-- P&#45;&gt;f -->\n<g id=\"edge4\" class=\"edge\">\n<title>P&#45;&gt;f</title>\n<path fill=\"none\" stroke=\"#000000\" d=\"M196.8505,-246.9735C216.7616,-233.8503 243.9189,-215.9512 265.5784,-201.6756\"/>\n<polygon fill=\"#000000\" stroke=\"#000000\" points=\"267.7611,-204.4289 274.1846,-196.0034 263.9088,-198.5842 267.7611,-204.4289\"/>\n<text text-anchor=\"middle\" x=\"254\" y=\"-217.8\" font-family=\"Times,serif\" font-size=\"14.00\" fill=\"#000000\">fwd</text>\n</g>\n<!-- HP -->\n<g id=\"node6\" class=\"node\">\n<title>HP</title>\n<polygon fill=\"none\" stroke=\"#000000\" points=\"328.5,-123 274.5,-123 274.5,-87 328.5,-87 328.5,-123\"/>\n<text text-anchor=\"middle\" x=\"301.5\" y=\"-101.3\" font-family=\"Times,serif\" font-size=\"14.00\" fill=\"#000000\">HP</text>\n</g>\n<!-- f&#45;&gt;HP -->\n<g id=\"edge8\" class=\"edge\">\n<title>f&#45;&gt;HP</title>\n<path fill=\"none\" stroke=\"#000000\" d=\"M301.5,-159.9551C301.5,-151.8828 301.5,-142.1764 301.5,-133.1817\"/>\n<polygon fill=\"#000000\" stroke=\"#000000\" points=\"305.0001,-133.0903 301.5,-123.0904 298.0001,-133.0904 305.0001,-133.0903\"/>\n</g>\n<!-- l -->\n<g id=\"node7\" class=\"node\">\n<title>l</title>\n<text text-anchor=\"middle\" x=\"182.5\" y=\"-14.3\" font-family=\"Times,serif\" font-size=\"14.00\" fill=\"#000000\">[0+, 2&#45;] &#160;E = 0</text>\n</g>\n<!-- HP&#45;&gt;l -->\n<g id=\"edge5\" class=\"edge\">\n<title>HP&#45;&gt;l</title>\n<path fill=\"none\" stroke=\"#000000\" d=\"M276.8431,-86.9735C259.0525,-73.9669 234.845,-56.269 215.4058,-42.0571\"/>\n<polygon fill=\"#000000\" stroke=\"#000000\" points=\"217.2636,-39.0798 207.1253,-36.0034 213.1323,-44.7307 217.2636,-39.0798\"/>\n<text text-anchor=\"middle\" x=\"259.5\" y=\"-57.8\" font-family=\"Times,serif\" font-size=\"14.00\" fill=\"#000000\">low</text>\n</g>\n<!-- m -->\n<g id=\"node8\" class=\"node\">\n<title>m</title>\n<text text-anchor=\"middle\" x=\"301.5\" y=\"-14.3\" font-family=\"Times,serif\" font-size=\"14.00\" fill=\"#000000\">[0+, 1&#45;] &#160;E = 0</text>\n</g>\n<!-- HP&#45;&gt;m -->\n<g id=\"edge6\" class=\"edge\">\n<title>HP&#45;&gt;m</title>\n<path fill=\"none\" stroke=\"#000000\" d=\"M301.5,-86.9735C301.5,-75.1918 301.5,-59.5607 301.5,-46.1581\"/>\n<polygon fill=\"#000000\" stroke=\"#000000\" points=\"305.0001,-46.0033 301.5,-36.0034 298.0001,-46.0034 305.0001,-46.0033\"/>\n<text text-anchor=\"middle\" x=\"321.5\" y=\"-57.8\" font-family=\"Times,serif\" font-size=\"14.00\" fill=\"#000000\">middle</text>\n</g>\n<!-- h -->\n<g id=\"node9\" class=\"node\">\n<title>h</title>\n<text text-anchor=\"middle\" x=\"420.5\" y=\"-14.3\" font-family=\"Times,serif\" font-size=\"14.00\" fill=\"#000000\">[2+, 0&#45;] &#160;E = 0</text>\n</g>\n<!-- HP&#45;&gt;h -->\n<g id=\"edge7\" class=\"edge\">\n<title>HP&#45;&gt;h</title>\n<path fill=\"none\" stroke=\"#000000\" d=\"M326.1569,-86.9735C343.9475,-73.9669 368.155,-56.269 387.5942,-42.0571\"/>\n<polygon fill=\"#000000\" stroke=\"#000000\" points=\"389.8677,-44.7307 395.8747,-36.0034 385.7364,-39.0798 389.8677,-44.7307\"/>\n<text text-anchor=\"middle\" x=\"381\" y=\"-57.8\" font-family=\"Times,serif\" font-size=\"14.00\" fill=\"#000000\">high</text>\n</g>\n</g>\n</svg>\n"
          },
          "metadata": {},
          "execution_count": 11
        }
      ]
    },
    {
      "cell_type": "markdown",
      "source": [
        "\n",
        "# Problem 6 (Written + Program: 25 pts)"
      ],
      "metadata": {
        "id": "Nwv-x4ENLjac"
      }
    },
    {
      "cell_type": "markdown",
      "metadata": {
        "id": "pY-hX8jtpknb"
      },
      "source": [
        "**Problem 6 (Written + Program: 25 pts)**\n",
        "\n",
        "In this problem, you will use the scikit-learn package.\n",
        "\n",
        "Apply your info_gain function to analyze the following data set (TABLE 2) and report the results. Note that this is a different data set. All attributes can only have two values, due to the scikit-learn's implementation. \n",
        "\n",
        "(1) Repeat the steps in Problem 5(2) applied to data in Table 2 below. Show the output of your info_gain function. For this, use your program from problem 5, not scikit-learn.\n",
        "\n",
        "(2) Repeat the steps in Problem 5(3) applied to data in Table 2 below. Show the output of your info_gain function. For this, use your program from problem 5, not scikit-learn.\n",
        "\n",
        "(3) Verify your results using scikit-learn's decision tree algorithm (code provided below), test the results and compare with your results in (1) and (2) right above.\n",
        "  *  Note: scikit-learn does not support multi-value attributes (thus all the branches are binary). The data set below is set up so that you can use sci-kit-learn (you cannot use scikit-learn for the data in Table 1, since it includes multi-value attributes). \n",
        "\n",
        "**NOTE: the data set may look similar to the one in the slides, but it is not identical, so the results will be different. **\n",
        "\n",
        "<b>TABLE 2</b>\n",
        "\n",
        "\n",
        "\n",
        "|HP| Drivetrain| Body| Price| Target|\n",
        "|---:|:---|:---|:---|:---|\n",
        "|low| rwd| suv| high| N|\n",
        "|high| fwd| suv| high| Y|\n",
        "|low| rwd| hatchback| low| N|\n",
        "|high| fwd| hatchback| low| Y|\n",
        "|high| rwd| suv| low| N|\n",
        "|high| fwd| suv| low| N|\n",
        "|low| fwd | hatchback| high| Y|\n",
        "|low| fwd| hatchback | low| Y|\n"
      ]
    },
    {
      "cell_type": "markdown",
      "metadata": {
        "id": "zlwQVDo40vqD"
      },
      "source": [
        "**Answer:**\n",
        "\n",
        "(1) Info gain for \n",
        "* HP: info gain = 0\n",
        "* Drivetrain: info gain =0.549\n",
        "* Body: info gain = 0.189\n",
        "* Price: info gain = 0.049\n",
        "\n",
        "(2) Best attribute from step (2) = Drivetrain \n",
        "* Branch rwd: Best = N/A \n",
        " * HP: info gain = 0\n",
        " * Body: info gain = 0 \n",
        " * Price: info gain = 0\n",
        "* Branch fwd: Best = Body \n",
        " * HP: info gain = 0.171\n",
        " * Body: info gain = 0.322 \n",
        " * Price: info gain = 0.171 \n",
        "\n",
        "Best attribute from above: Body\n",
        "* Branch suv: Best = Price \n",
        " * HP: info gain = 0\n",
        " * Price: info gain = 1\n",
        "* Branch hatchback: Best = N/A \n",
        " * HP: info gain = 0\n",
        " * Price: info gain = 0 "
      ]
    },
    {
      "cell_type": "code",
      "metadata": {
        "id": "m0fsMX9M1rW-",
        "colab": {
          "base_uri": "https://localhost:8080/",
          "height": 963
        },
        "outputId": "b2070cb1-3dc0-42d6-e90a-2f5d3372382b"
      },
      "source": [
        "# Problem 6, part (1) and (2) code \n",
        "\n",
        "# write your function calls here\n",
        "\n",
        "# (1)\n",
        "# before = ...\n",
        "# after = ... \n",
        "# info_gain (before, after)\n",
        "\n",
        "\n",
        "# (2)\n",
        "# before = ...\n",
        "# after = ... \n",
        "# info_gain (before, after)\n",
        "\n",
        "# (3): use the code cell below.\n",
        "import numpy as np\n",
        "import matplotlib.pyplot as plt\n",
        "import graphviz\n",
        "\n",
        "# IMPLEMENT THE FUNCTIONS BELOW\n",
        "\n",
        "# 1. define your entropy function here. Note: this has to be defined specifically for this case: p+ and p-. \n",
        "#  The entropy function defined in problem 2 is for three possible values, not +/-.  \n",
        "def Entropy(P_plus):\n",
        "  P_minus = 1-P_plus \n",
        "  if P_plus == 0:\n",
        "    return - P_minus * (np.log2(P_minus))\n",
        "  elif P_plus == 1:\n",
        "    return - P_plus * (np.log2(P_plus))\n",
        "  return -P_plus * (np.log2(P_plus)) - P_minus * (np.log2(P_minus))\n",
        "\n",
        "# 2. define your info_gain function here \n",
        "def info_gain(before, after, rows):\n",
        "  # check if argument is valid\n",
        "  pos = before[0]\n",
        "  neg = before[1]\n",
        "  for i in range (rows):\n",
        "    pos = pos - after[i][0]\n",
        "    neg = neg - after[i][1]\n",
        "  if pos != 0 or neg != 0:\n",
        "    return \"invalid\"\n",
        "\n",
        "  prev = Entropy(before[0]/(before[0] + before[1]))\n",
        "  curr = 0\n",
        "  for i in range (rows):\n",
        "    if after[i][0] + after[i][1] == 0:\n",
        "      curr = curr\n",
        "    else:\n",
        "      curr = curr + (after[i][0] + after[i][1])/(before[0] + before[1])*Entropy(after[i][0]/(after[i][0] + after[i][1]))\n",
        "  return prev - curr\n",
        "\n",
        "# 3. Test function (see Figure 2 above)\n",
        "\n",
        "before = np.array([4,4])  # +9, -5 is entered like this (9 positive,5 negative samples)\n",
        "after  = np.array([[2,2], [2,2]]) # two rows, for two attribute values High and Normal, +3/-4 and +6/-1 \n",
        "print('HP info gain: ' + str(info_gain(before, after, after.shape[0])))\n",
        "\n",
        "before = np.array([4,4])  \n",
        "after  = np.array([[0,3], [4,1]]) \n",
        "print('Drivetrain info gain: ' + str(info_gain(before, after, after.shape[0])))\n",
        "\n",
        "before = np.array([4,4])  \n",
        "after  = np.array([[1,3], [3,1]]) \n",
        "print('Body info gain: ' + str(info_gain(before, after, after.shape[0])))\n",
        "\n",
        "before = np.array([4,4])  \n",
        "after  = np.array([[2,1], [2,3]]) \n",
        "print('Price info gain: ' + str(info_gain(before, after, after.shape[0])))\n",
        "print('Best attribute: Drivetrain')\n",
        "\n",
        "print('--------------------------- second level')\n",
        "\n",
        "before = np.array([4,1])  \n",
        "after  = np.array([[2,0], [2,1]]) \n",
        "print('HP info gain: ' + str(info_gain(before, after, after.shape[0])))\n",
        "\n",
        "before = np.array([4,1])  \n",
        "after  = np.array([[1,1], [3,0]]) \n",
        "print('Body info gain: ' + str(info_gain(before, after, after.shape[0])))\n",
        "\n",
        "before = np.array([4,1])  \n",
        "after  = np.array([[2,0], [2,1]]) \n",
        "print('Price info gain: ' + str(info_gain(before, after, after.shape[0])))\n",
        "print('Best attribute: Body')\n",
        "\n",
        "print('--------------------------- third level')\n",
        "\n",
        "before = np.array([1,1])  \n",
        "after  = np.array([[1,1], [0,0]]) \n",
        "print('HP info gain: ' + str(info_gain(before, after, after.shape[0])))\n",
        "\n",
        "before = np.array([1,1])  \n",
        "after  = np.array([[1,0], [0,1]]) \n",
        "print('Price info gain: ' + str(info_gain(before, after, after.shape[0])))\n",
        "print('Best attribute: Price')\n",
        "\n",
        "\n",
        "dot = graphviz.Digraph(comment='Decision Tree')\n",
        "\n",
        "dot.node('Root',label='[4+, 4-]  E = 0.961', shape='plaintext')\n",
        "dot.node('P',label='Drivetrain',shape='box')\n",
        "dot.node('r',label='[0+, 3-]  E = 0', shape='plaintext')\n",
        "dot.node('f',label='[4+, 1-]  E = 0.722', shape='plaintext')\n",
        "dot.node('B',label='Body',shape='box')\n",
        "dot.node('l',label='[1+, 1-]  E = 1', shape='plaintext')\n",
        "dot.node('h',label='[3+, 0-]  E = 0', shape='plaintext')\n",
        "dot.node('pr',label='Price',shape='box')\n",
        "dot.node('high',label='[1+, 0-]  E = 0', shape='plaintext')\n",
        "dot.node('low',label='[0-, 1+]  E = 0', shape='plaintext')\n",
        "\n",
        "dot.edge('Root','P',label='')\n",
        "dot.edge('P','r',label='rwd')\n",
        "dot.edge('P','f',label='fwd')\n",
        "dot.edge('B','l',label='sedan')\n",
        "dot.edge('B','h',label='hatchback')\n",
        "dot.edge('f','B',label='')\n",
        "dot.edge('l','pr',label='')\n",
        "dot.edge('pr','high',label='high')\n",
        "dot.edge('pr','low',label='low')\n",
        "\n",
        "dot\n"
      ],
      "execution_count": 12,
      "outputs": [
        {
          "output_type": "stream",
          "name": "stdout",
          "text": [
            "HP info gain: 0.0\n",
            "Drivetrain info gain: 0.5487949406953986\n",
            "Body info gain: 0.18872187554086717\n",
            "Price info gain: 0.04879494069539847\n",
            "Best attribute: Drivetrain\n",
            "--------------------------- second level\n",
            "HP info gain: 0.17095059445466865\n",
            "Body info gain: 0.3219280948873623\n",
            "Price info gain: 0.17095059445466865\n",
            "Best attribute: Body\n",
            "--------------------------- third level\n",
            "HP info gain: 0.0\n",
            "Price info gain: 1.0\n",
            "Best attribute: Price\n"
          ]
        },
        {
          "output_type": "execute_result",
          "data": {
            "text/plain": [
              "<graphviz.dot.Digraph at 0x7fd761e36650>"
            ],
            "image/svg+xml": "<?xml version=\"1.0\" encoding=\"UTF-8\" standalone=\"no\"?>\n<!DOCTYPE svg PUBLIC \"-//W3C//DTD SVG 1.1//EN\"\n \"http://www.w3.org/Graphics/SVG/1.1/DTD/svg11.dtd\">\n<!-- Generated by graphviz version 2.40.1 (20161225.0304)\n -->\n<!-- Title: %3 Pages: 1 -->\n<svg width=\"287pt\" height=\"524pt\"\n viewBox=\"0.00 0.00 287.00 524.00\" xmlns=\"http://www.w3.org/2000/svg\" xmlns:xlink=\"http://www.w3.org/1999/xlink\">\n<g id=\"graph0\" class=\"graph\" transform=\"scale(1 1) rotate(0) translate(4 520)\">\n<title>%3</title>\n<polygon fill=\"#ffffff\" stroke=\"transparent\" points=\"-4,4 -4,-520 283,-520 283,4 -4,4\"/>\n<!-- Root -->\n<g id=\"node1\" class=\"node\">\n<title>Root</title>\n<text text-anchor=\"middle\" x=\"110.5\" y=\"-494.3\" font-family=\"Times,serif\" font-size=\"14.00\" fill=\"#000000\">[4+, 4&#45;] &#160;E = 0.961</text>\n</g>\n<!-- P -->\n<g id=\"node2\" class=\"node\">\n<title>P</title>\n<polygon fill=\"none\" stroke=\"#000000\" points=\"147.5,-443 73.5,-443 73.5,-407 147.5,-407 147.5,-443\"/>\n<text text-anchor=\"middle\" x=\"110.5\" y=\"-421.3\" font-family=\"Times,serif\" font-size=\"14.00\" fill=\"#000000\">Drivetrain</text>\n</g>\n<!-- Root&#45;&gt;P -->\n<g id=\"edge1\" class=\"edge\">\n<title>Root&#45;&gt;P</title>\n<path fill=\"none\" stroke=\"#000000\" d=\"M110.5,-479.9551C110.5,-471.8828 110.5,-462.1764 110.5,-453.1817\"/>\n<polygon fill=\"#000000\" stroke=\"#000000\" points=\"114.0001,-453.0903 110.5,-443.0904 107.0001,-453.0904 114.0001,-453.0903\"/>\n</g>\n<!-- r -->\n<g id=\"node3\" class=\"node\">\n<title>r</title>\n<text text-anchor=\"middle\" x=\"66.5\" y=\"-334.3\" font-family=\"Times,serif\" font-size=\"14.00\" fill=\"#000000\">[0+, 3&#45;] &#160;E = 0</text>\n</g>\n<!-- P&#45;&gt;r -->\n<g id=\"edge2\" class=\"edge\">\n<title>P&#45;&gt;r</title>\n<path fill=\"none\" stroke=\"#000000\" d=\"M101.3832,-406.9735C95.2476,-394.8418 87.0478,-378.6287 80.1399,-364.9698\"/>\n<polygon fill=\"#000000\" stroke=\"#000000\" points=\"83.2416,-363.3474 75.6051,-356.0034 76.995,-366.5066 83.2416,-363.3474\"/>\n<text text-anchor=\"middle\" x=\"102\" y=\"-377.8\" font-family=\"Times,serif\" font-size=\"14.00\" fill=\"#000000\">rwd</text>\n</g>\n<!-- f -->\n<g id=\"node4\" class=\"node\">\n<title>f</title>\n<text text-anchor=\"middle\" x=\"198.5\" y=\"-334.3\" font-family=\"Times,serif\" font-size=\"14.00\" fill=\"#000000\">[4+, 1&#45;] &#160;E = 0.722</text>\n</g>\n<!-- P&#45;&gt;f -->\n<g id=\"edge3\" class=\"edge\">\n<title>P&#45;&gt;f</title>\n<path fill=\"none\" stroke=\"#000000\" d=\"M128.7337,-406.9735C141.4768,-394.3752 158.6719,-377.3755 172.8024,-363.4055\"/>\n<polygon fill=\"#000000\" stroke=\"#000000\" points=\"175.639,-365.5229 180.2897,-356.0034 170.7176,-360.545 175.639,-365.5229\"/>\n<text text-anchor=\"middle\" x=\"171\" y=\"-377.8\" font-family=\"Times,serif\" font-size=\"14.00\" fill=\"#000000\">fwd</text>\n</g>\n<!-- B -->\n<g id=\"node5\" class=\"node\">\n<title>B</title>\n<polygon fill=\"none\" stroke=\"#000000\" points=\"225.5,-283 171.5,-283 171.5,-247 225.5,-247 225.5,-283\"/>\n<text text-anchor=\"middle\" x=\"198.5\" y=\"-261.3\" font-family=\"Times,serif\" font-size=\"14.00\" fill=\"#000000\">Body</text>\n</g>\n<!-- f&#45;&gt;B -->\n<g id=\"edge6\" class=\"edge\">\n<title>f&#45;&gt;B</title>\n<path fill=\"none\" stroke=\"#000000\" d=\"M198.5,-319.9551C198.5,-311.8828 198.5,-302.1764 198.5,-293.1817\"/>\n<polygon fill=\"#000000\" stroke=\"#000000\" points=\"202.0001,-293.0903 198.5,-283.0904 195.0001,-293.0904 202.0001,-293.0903\"/>\n</g>\n<!-- l -->\n<g id=\"node6\" class=\"node\">\n<title>l</title>\n<text text-anchor=\"middle\" x=\"109.5\" y=\"-174.3\" font-family=\"Times,serif\" font-size=\"14.00\" fill=\"#000000\">[1+, 1&#45;] &#160;E = 1</text>\n</g>\n<!-- B&#45;&gt;l -->\n<g id=\"edge4\" class=\"edge\">\n<title>B&#45;&gt;l</title>\n<path fill=\"none\" stroke=\"#000000\" d=\"M180.0591,-246.9735C167.0519,-234.2586 149.4582,-217.0603 135.0934,-203.0183\"/>\n<polygon fill=\"#000000\" stroke=\"#000000\" points=\"137.5148,-200.4908 127.9172,-196.0034 132.6216,-205.4965 137.5148,-200.4908\"/>\n<text text-anchor=\"middle\" x=\"175\" y=\"-217.8\" font-family=\"Times,serif\" font-size=\"14.00\" fill=\"#000000\">sedan</text>\n</g>\n<!-- h -->\n<g id=\"node7\" class=\"node\">\n<title>h</title>\n<text text-anchor=\"middle\" x=\"228.5\" y=\"-174.3\" font-family=\"Times,serif\" font-size=\"14.00\" fill=\"#000000\">[3+, 0&#45;] &#160;E = 0</text>\n</g>\n<!-- B&#45;&gt;h -->\n<g id=\"edge5\" class=\"edge\">\n<title>B&#45;&gt;h</title>\n<path fill=\"none\" stroke=\"#000000\" d=\"M204.716,-246.9735C208.8189,-235.0751 214.2756,-219.2508 218.9274,-205.7606\"/>\n<polygon fill=\"#000000\" stroke=\"#000000\" points=\"222.3408,-206.5981 222.2919,-196.0034 215.7232,-204.3161 222.3408,-206.5981\"/>\n<text text-anchor=\"middle\" x=\"243.5\" y=\"-217.8\" font-family=\"Times,serif\" font-size=\"14.00\" fill=\"#000000\">hatchback</text>\n</g>\n<!-- pr -->\n<g id=\"node8\" class=\"node\">\n<title>pr</title>\n<polygon fill=\"none\" stroke=\"#000000\" points=\"136.5,-123 82.5,-123 82.5,-87 136.5,-87 136.5,-123\"/>\n<text text-anchor=\"middle\" x=\"109.5\" y=\"-101.3\" font-family=\"Times,serif\" font-size=\"14.00\" fill=\"#000000\">Price</text>\n</g>\n<!-- l&#45;&gt;pr -->\n<g id=\"edge7\" class=\"edge\">\n<title>l&#45;&gt;pr</title>\n<path fill=\"none\" stroke=\"#000000\" d=\"M109.5,-159.9551C109.5,-151.8828 109.5,-142.1764 109.5,-133.1817\"/>\n<polygon fill=\"#000000\" stroke=\"#000000\" points=\"113.0001,-133.0903 109.5,-123.0904 106.0001,-133.0904 113.0001,-133.0903\"/>\n</g>\n<!-- high -->\n<g id=\"node9\" class=\"node\">\n<title>high</title>\n<text text-anchor=\"middle\" x=\"50.5\" y=\"-14.3\" font-family=\"Times,serif\" font-size=\"14.00\" fill=\"#000000\">[1+, 0&#45;] &#160;E = 0</text>\n</g>\n<!-- pr&#45;&gt;high -->\n<g id=\"edge8\" class=\"edge\">\n<title>pr&#45;&gt;high</title>\n<path fill=\"none\" stroke=\"#000000\" d=\"M97.2752,-86.9735C88.9688,-74.7252 77.8411,-58.3165 68.5232,-44.5766\"/>\n<polygon fill=\"#000000\" stroke=\"#000000\" points=\"71.2186,-42.3153 62.7092,-36.0034 65.4252,-46.2442 71.2186,-42.3153\"/>\n<text text-anchor=\"middle\" x=\"97\" y=\"-57.8\" font-family=\"Times,serif\" font-size=\"14.00\" fill=\"#000000\">high</text>\n</g>\n<!-- low -->\n<g id=\"node10\" class=\"node\">\n<title>low</title>\n<text text-anchor=\"middle\" x=\"169.5\" y=\"-14.3\" font-family=\"Times,serif\" font-size=\"14.00\" fill=\"#000000\">[0&#45;, 1+] &#160;E = 0</text>\n</g>\n<!-- pr&#45;&gt;low -->\n<g id=\"edge9\" class=\"edge\">\n<title>pr&#45;&gt;low</title>\n<path fill=\"none\" stroke=\"#000000\" d=\"M121.932,-86.9735C130.3792,-74.7252 141.6955,-58.3165 151.1713,-44.5766\"/>\n<polygon fill=\"#000000\" stroke=\"#000000\" points=\"154.2878,-46.2226 157.0839,-36.0034 148.5253,-42.2484 154.2878,-46.2226\"/>\n<text text-anchor=\"middle\" x=\"153.5\" y=\"-57.8\" font-family=\"Times,serif\" font-size=\"14.00\" fill=\"#000000\">low</text>\n</g>\n</g>\n</svg>\n"
          },
          "metadata": {},
          "execution_count": 12
        }
      ]
    },
    {
      "cell_type": "markdown",
      "source": [
        "\n",
        "**Answer:**\n",
        "(3) Enter the data in the code cell below and run it to verify your results above.\n",
        "\n",
        "The decision tree above and below is identical.\n"
      ],
      "metadata": {
        "id": "tiglCtD9OYBC"
      }
    },
    {
      "cell_type": "code",
      "metadata": {
        "colab": {
          "base_uri": "https://localhost:8080/",
          "height": 369
        },
        "id": "2t9hopk739FN",
        "outputId": "f2a5a40c-e9e1-4a42-a014-64e29fa15794"
      },
      "source": [
        "# Problem 6, part (3) code\n",
        "#\n",
        "# Testing scikit-learn's decision tree implementation. \n",
        "#\n",
        "#  - scikit-learn's decision tree only allows binary target values.\n",
        "\n",
        "from sklearn import tree\n",
        "import numpy as np \n",
        "\n",
        "clf = tree.DecisionTreeClassifier(criterion=\"entropy\")\n",
        "\n",
        "# Enter your data here. Each row is an instance. Each column is the attribute.\n",
        "# Set the first attribute value that appears in the table to be 0, and the next one as 1.\n",
        "# - for example, for the Outlook attribute, Sunny = 0, and Overcast = 1.\n",
        "#\n",
        "# X = [[0,0,0,0],\n",
        "#      [0,0,0,1],\n",
        "#      ... .... ... ]\n",
        "#\n",
        "\n",
        "# mock data, with only 4 instances\n",
        "# - MODIFY this \n",
        "#\n",
        "# Column order: HP, Drivetrain, Body, Price\n",
        "# Values:\n",
        "#    HP:          low=0, high=1\n",
        "#    Drivetrain:  rwd=0, fwd=1\n",
        "#    Body:        suv=0, hatchback=1\n",
        "#    Price:       low=0, high=1 \n",
        "# Target:         N=0, Y=1\n",
        "X = [[0,0,0,1], \n",
        "     [1,1,0,1],\n",
        "     [0,0,1,0], \n",
        "     [1,1,1,0],\n",
        "     [1,0,0,0],\n",
        "     [1,1,0,0],\n",
        "     [0,1,1,1],\n",
        "     [0,1,1,0]]\n",
        "\n",
        "# Enter the target data (PlayTennis) here. 1 = Yes. 0 = No.\n",
        "# y = [1, 1, .... ]\n",
        "# - MODIFY this \n",
        "\n",
        "y = [ 0, \n",
        "     1, \n",
        "     0, \n",
        "     1,\n",
        "     0,\n",
        "     0,\n",
        "     1,\n",
        "     1]\n",
        "clf = clf.fit(X, y)\n",
        "\n",
        "# Note: value=[a,b] means \"a\" negative samples, and \"b\" positive samples [# neg = a, # pos = b]. \n",
        "#       *Note that this order is reversed, compared to the lecture slides, where we had [# pos, #neg].  \n",
        "# Note: left branch is attribute value 0, right branch = attribute value 1.\n",
        "# Note: X[n] means the attribute for the n-th column (n=0 is the first column in)\n",
        "tree.plot_tree(clf)\n"
      ],
      "execution_count": 3,
      "outputs": [
        {
          "output_type": "execute_result",
          "data": {
            "text/plain": [
              "[Text(0.4, 0.875, 'X[1] <= 0.5\\nentropy = 1.0\\nsamples = 8\\nvalue = [4, 4]'),\n",
              " Text(0.2, 0.625, 'entropy = 0.0\\nsamples = 3\\nvalue = [3, 0]'),\n",
              " Text(0.6, 0.625, 'X[2] <= 0.5\\nentropy = 0.722\\nsamples = 5\\nvalue = [1, 4]'),\n",
              " Text(0.4, 0.375, 'X[3] <= 0.5\\nentropy = 1.0\\nsamples = 2\\nvalue = [1, 1]'),\n",
              " Text(0.2, 0.125, 'entropy = 0.0\\nsamples = 1\\nvalue = [1, 0]'),\n",
              " Text(0.6, 0.125, 'entropy = 0.0\\nsamples = 1\\nvalue = [0, 1]'),\n",
              " Text(0.8, 0.375, 'entropy = 0.0\\nsamples = 3\\nvalue = [0, 3]')]"
            ]
          },
          "metadata": {},
          "execution_count": 3
        },
        {
          "output_type": "display_data",
          "data": {
            "text/plain": [
              "<Figure size 432x288 with 1 Axes>"
            ],
            "image/png": "[encoded data removed]"
          },
          "metadata": {
            "needs_background": "light"
          }
        }
      ]
    },
    {
      "cell_type": "markdown",
      "source": [
        "# [Extra Code] Full Decision Tree (Exercise Only, No credit) \n",
        "\n",
        "In this section, you will write a complete decision tree learning algorithm, and display the results as a tree. Again, this is not required, so no need to submit anything for this part. "
      ],
      "metadata": {
        "id": "n2BVfCcUMvTI"
      }
    },
    {
      "cell_type": "markdown",
      "source": [
        "**This code is provided only as an exercise: No credit/points**\n",
        "\n",
        "Implement a full Decision Tree algorithm, and test it on the Section II data set. Use the starter code below. It provides the data structure and plotting function.\n",
        "\n",
        "* **Input**: Data Set\n",
        "* **Output**: Decision tree plot\n"
      ],
      "metadata": {
        "id": "1w28h1Yb0vqE"
      }
    },
    {
      "cell_type": "code",
      "source": [
        "'''\n",
        "\n",
        "  Decision tree: starter code \n",
        "\n",
        "'''\n",
        "\n",
        "import numpy as np\n",
        "import types\n",
        "import matplotlib.pyplot as plt\n",
        "import graphviz\n",
        "import uuid\n",
        "\n",
        "#------------------------------------------------------------------\n",
        "#\n",
        "# DT: Decision tree class \n",
        "# \n",
        "# - you can mostly leave this alone\n",
        "# - edit the DT_learn class below. \n",
        "# - this may only be useful for displaying\n",
        "#\n",
        "#------------------------------------------------------------------\n",
        "class DT:\n",
        "  '''\n",
        "  DT class \n",
        "\n",
        "  - it can be a leaf (Yes/No) or a subtree\n",
        "\n",
        "  '''\n",
        "\n",
        "  #-------------------\n",
        "  # __init__ function\n",
        "  #-------------------\n",
        "  def __init__(self, decision=None, attr=None, values=None, children=None):\n",
        "    '''\n",
        "    decision: if this alone is given, a leaf node will be created.\n",
        "        - example: dt = DT(decision=False)\n",
        "\n",
        "    attr, values, children : if these are given together, a subtree will be created.\n",
        "        - example: dt = DT(attr=\"Patron\", values=[\"Full\", \"Some\", \"None\"], children=[None, None, None])\n",
        "    '''\n",
        "\n",
        "    # 1. Leaf\n",
        "    if decision != None:\n",
        "\n",
        "      self.decision = decision\n",
        "      self.is_leaf = True\n",
        "\n",
        "    # 2. tree\n",
        "    else:\n",
        "\n",
        "      self.attr     = attr\n",
        "      self.values   = values\n",
        "      self.children = children\n",
        "      self.is_leaf  = False\n",
        "\n",
        "  #-------------------\n",
        "  # print function\n",
        "  #------------------\n",
        "  def print(self,indent=\"\"):\n",
        "    '''\n",
        "    print : print the node content\n",
        "      indent: to plot child tree with indentation, e.g., \"     \"\n",
        "    '''\n",
        "\n",
        "    # 1. Leaf\n",
        "    if (self.is_leaf):\n",
        "      print(indent+\"Leaf = \",end=\"\")\n",
        "      print(self.decision)\n",
        "\n",
        "    # 2. tree \n",
        "    else:\n",
        "\n",
        "      print(indent+\"Attr = [__{}__]\".format(self.attr), end=\", \")\n",
        "      print(indent+\"Values:\",end=\" \")\n",
        "      print(self.values)\n",
        "\n",
        "      # recurse into children\n",
        "      n = 0\n",
        "      for child in self.children:\n",
        "        print(indent+\"Child \"+str(n)+\":\",end=\"\")\n",
        "        # indent subtree more than current indentation for easier inspection\n",
        "        child.print(indent+\"    \") \n",
        "        n += 1\n",
        "\n",
        "  #-------------------\n",
        "  # uid function\n",
        "  #------------------\n",
        "  def uid(self):\n",
        "    '''\n",
        "    uid : generates a unique identifier for graph plotting\n",
        "    '''\n",
        "\n",
        "    UID = str(uuid.uuid4())\n",
        "    UID = UID.replace(\"-\",\"\")\n",
        "    UID = \"id_\"+UID\n",
        "\n",
        "    return UID\n",
        "\n",
        "  #-------------------\n",
        "  # plot_tree function :  \n",
        "  #------------------\n",
        "  def plot_tree(self, dot_handle=None):\n",
        "    '''\n",
        "    plot_tree : visualize the tree using graphviz\n",
        "\n",
        "      - dot_handle: graphviz dot handle to keep adding to the\n",
        "          same graph instance through recursive calls.\n",
        "          Do not specify it when calling this at the top level.\n",
        "\n",
        "    '''\n",
        "    # generated unique ID for this node\n",
        "    UID = self.uid()\n",
        "\n",
        "    # 1. new tree generation, if called without dot_handle \n",
        "\n",
        "    if (dot_handle == None): \n",
        "      dot = graphviz.Digraph(comment='Decision Tree')\n",
        "    else:\n",
        "      dot = dot_handle\n",
        "\n",
        "    # 2. Leaf \n",
        "    if (self.is_leaf):\n",
        "\n",
        "      dot.node(UID, label=str(self.decision), shape=\"plaintext\")\n",
        "      return UID, dot\n",
        "\n",
        "    # 3. Subtree\n",
        "    else:\n",
        "\n",
        "      dot.node(UID, label=self.attr, shape=\"box\")\n",
        "\n",
        "      # recurse into children\n",
        "      n = 0\n",
        "      for child in self.children:\n",
        "\n",
        "        # get child's subtree\n",
        "        child_UID, dot = child.plot_tree(dot_handle=dot)\n",
        "\n",
        "        # connect to the subtree\n",
        "        dot.edge(UID, child_UID, label=self.values[n])\n",
        "        n += 1\n",
        "\n",
        "    # return graph : you must plot this from the calling routine\n",
        "    return UID, dot \n",
        "\n",
        "\n",
        "#------------------------------------------------------------------\n",
        "#\n",
        "# DT_learn: Decision tree learning class : IMPLEMENT THIS\n",
        "#\n",
        "#------------------------------------------------------------------\n",
        "class DT_learn:   \n",
        "  '''\n",
        "\n",
        "  DT_learn class\n",
        "\n",
        "  '''\n",
        "  #-------------------\n",
        "  # init\n",
        "  #------------------\n",
        "  def __init__(self,input_data=None, target_data=None, attr_list=None):\n",
        "    '''\n",
        "    init:\n",
        "      input_data : n x m array containing input vectors.\n",
        "      target_data : n x 1 array containing target values.\n",
        "      attr_list : 1 x m array containing attribute names.\n",
        "\n",
        "    example:\n",
        "\n",
        "      dt_learn = DT_learn(\n",
        "          input_data=[[0,0], [0,1], [1,0], [1,1]], \n",
        "          target_data=[0, 1, 1, 0], \n",
        "          attr_list=['x1', 'x2'])\n",
        "\n",
        "    '''\n",
        "\n",
        "    self.input_data  = input_data\n",
        "    self.target_data = target_data\n",
        "    self.attr_list   = attr_list\n",
        "\n",
        "    # for use throughout : leaf nodes\n",
        "    self.leaf_f = DT(decision = False)\n",
        "    self.leaf_t = DT(decision = True)\n",
        "\n",
        "  #-------------------\n",
        "  # learn : IMPLEMENT THIS\n",
        "  #------------------\n",
        "  def learn(self, check_attr=None, input_data=None, target_data=None, remaining_attr_list=None, default_value=None):\n",
        "    '''\n",
        "    - Initial call can be without any arguments.\n",
        "    - Recursive calls will require the subsets, which attribute to check, and the remaining attributes\n",
        "      - This is a rough guess btw. You may have to adjust it as needed.  \n",
        "    '''\n",
        "\n",
        "    # Construct your tree based on the given data : replace the mock code below\n",
        "    root = DT(attr=\"Root\", values=[\"v1\", \"v2\"], children=[self.leaf_f, self.leaf_t])\n",
        "\n",
        "    # you may have to call learn() recursively.\n",
        "    \n",
        "    # return final tree\n",
        "    return root\n",
        "\n",
        "\n",
        "#---------------------------\n",
        "# Test DT class\n",
        "#---------------------------\n",
        "\n",
        "# create leaf nodes : this will be reused for all leaves.\n",
        "leaf_f = DT(decision = False)\n",
        "leaf_t = DT(decision = True)\n",
        "\n",
        "# Simple tree with all leaf node children: This will be used as a subtree below\n",
        "\n",
        "dt1 = DT(attr = \"Price\", values = [\"$\", \"$$\", \"$$$\"], children = [leaf_f, leaf_t, leaf_t])\n",
        "\n",
        "\n",
        "# Another tree to be used as a subtree below.\n",
        "# A bit more complex tree with 1 subtree as a child.\n",
        "# - You can simply put a subtree in the children list, as shown below.\n",
        "\n",
        "dt2 = DT(attr = \"Patron\", values = [\"none\", \"some\", \"full\"], children = [leaf_f, dt1, leaf_t])\n",
        "\n",
        "# The final tree \n",
        "# - Note: dt2 has dt1 has sub tree, so, in this plot, \"Price\" attribute will appear twice\n",
        "\n",
        "dt3 = DT(attr = \"Waiting Staff\", values = [\"part-time\", \"full-time\", \"owner\", \"family\"], children = [leaf_f, dt1, dt2, leaf_t])\n",
        "print(\"\\n\\n\\n Decision Tree dump: This is a mock example just to test the plotting function.\\n\\n\")\n",
        "dt3.print()\n",
        "\n",
        "# create plot from the final tree\n",
        "\n",
        "UID, dot = dt3.plot_tree()  \n",
        "print(\"\\n\\n\\n Decision Tree plot: This is a mock example just to test the plotting function.\\n\\n\")\n",
        "dot \n",
        "\n",
        "# See below for test code for DT_learn class "
      ],
      "metadata": {
        "id": "6tv0kRIC0UnY",
        "colab": {
          "base_uri": "https://localhost:8080/",
          "height": 879
        },
        "outputId": "f2c59ede-6b6a-4555-a769-fa42ad4bb74e"
      },
      "execution_count": null,
      "outputs": [
        {
          "output_type": "stream",
          "name": "stdout",
          "text": [
            "\n",
            "\n",
            "\n",
            " Decision Tree dump: This is a mock example just to test the plotting function.\n",
            "\n",
            "\n",
            "Attr = [__Waiting Staff__], Values: ['part-time', 'full-time', 'owner', 'family']\n",
            "Child 0:    Leaf = False\n",
            "Child 1:    Attr = [__Price__],     Values: ['$', '$$', '$$$']\n",
            "    Child 0:        Leaf = False\n",
            "    Child 1:        Leaf = True\n",
            "    Child 2:        Leaf = True\n",
            "Child 2:    Attr = [__Patron__],     Values: ['none', 'some', 'full']\n",
            "    Child 0:        Leaf = False\n",
            "    Child 1:        Attr = [__Price__],         Values: ['$', '$$', '$$$']\n",
            "        Child 0:            Leaf = False\n",
            "        Child 1:            Leaf = True\n",
            "        Child 2:            Leaf = True\n",
            "    Child 2:        Leaf = True\n",
            "Child 3:    Leaf = True\n",
            "\n",
            "\n",
            "\n",
            " Decision Tree plot: This is a mock example just to test the plotting function.\n",
            "\n",
            "\n"
          ]
        },
        {
          "output_type": "execute_result",
          "data": {
            "text/plain": [
              "<graphviz.dot.Digraph at 0x7ff09ffb0910>"
            ],
            "image/svg+xml": "<?xml version=\"1.0\" encoding=\"UTF-8\" standalone=\"no\"?>\n<!DOCTYPE svg PUBLIC \"-//W3C//DTD SVG 1.1//EN\"\n \"http://www.w3.org/Graphics/SVG/1.1/DTD/svg11.dtd\">\n<!-- Generated by graphviz version 2.40.1 (20161225.0304)\n -->\n<!-- Title: %3 Pages: 1 -->\n<svg width=\"422pt\" height=\"305pt\"\n viewBox=\"0.00 0.00 422.00 305.00\" xmlns=\"http://www.w3.org/2000/svg\" xmlns:xlink=\"http://www.w3.org/1999/xlink\">\n<g id=\"graph0\" class=\"graph\" transform=\"scale(1 1) rotate(0) translate(4 301)\">\n<title>%3</title>\n<polygon fill=\"#ffffff\" stroke=\"transparent\" points=\"-4,4 -4,-301 418,-301 418,4 -4,4\"/>\n<!-- id_398b0da434594386a51a470291d34d9c -->\n<g id=\"node1\" class=\"node\">\n<title>id_398b0da434594386a51a470291d34d9c</title>\n<polygon fill=\"none\" stroke=\"#000000\" points=\"254,-297 162,-297 162,-261 254,-261 254,-297\"/>\n<text text-anchor=\"middle\" x=\"208\" y=\"-275.3\" font-family=\"Times,serif\" font-size=\"14.00\" fill=\"#000000\">Waiting Staff</text>\n</g>\n<!-- id_825624cbcb124fce806e71b31472d7b3 -->\n<g id=\"node2\" class=\"node\">\n<title>id_825624cbcb124fce806e71b31472d7b3</title>\n<text text-anchor=\"middle\" x=\"97\" y=\"-188.3\" font-family=\"Times,serif\" font-size=\"14.00\" fill=\"#000000\">False</text>\n</g>\n<!-- id_398b0da434594386a51a470291d34d9c&#45;&gt;id_825624cbcb124fce806e71b31472d7b3 -->\n<g id=\"edge1\" class=\"edge\">\n<title>id_398b0da434594386a51a470291d34d9c&#45;&gt;id_825624cbcb124fce806e71b31472d7b3</title>\n<path fill=\"none\" stroke=\"#000000\" d=\"M161.7665,-271.6713C143.3303,-266.53 123.3579,-257.8018 110,-243 104.3183,-236.7041 101.0476,-228.2699 99.1866,-220.0753\"/>\n<polygon fill=\"#000000\" stroke=\"#000000\" points=\"102.6043,-219.2912 97.5078,-210.0027 95.6995,-220.442 102.6043,-219.2912\"/>\n<text text-anchor=\"middle\" x=\"136\" y=\"-231.8\" font-family=\"Times,serif\" font-size=\"14.00\" fill=\"#000000\">part&#45;time</text>\n</g>\n<!-- id_a428254d07544b2b8d157e3d45ab9ce9 -->\n<g id=\"node3\" class=\"node\">\n<title>id_a428254d07544b2b8d157e3d45ab9ce9</title>\n<polygon fill=\"none\" stroke=\"#000000\" points=\"198,-210 144,-210 144,-174 198,-174 198,-210\"/>\n<text text-anchor=\"middle\" x=\"171\" y=\"-188.3\" font-family=\"Times,serif\" font-size=\"14.00\" fill=\"#000000\">Price</text>\n</g>\n<!-- id_398b0da434594386a51a470291d34d9c&#45;&gt;id_a428254d07544b2b8d157e3d45ab9ce9 -->\n<g id=\"edge5\" class=\"edge\">\n<title>id_398b0da434594386a51a470291d34d9c&#45;&gt;id_a428254d07544b2b8d157e3d45ab9ce9</title>\n<path fill=\"none\" stroke=\"#000000\" d=\"M182.8868,-260.8196C177.6608,-255.6986 172.8727,-249.6785 170,-243 166.9688,-235.9529 166.1035,-227.8354 166.2854,-220.1789\"/>\n<polygon fill=\"#000000\" stroke=\"#000000\" points=\"169.7777,-220.4126 167.0774,-210.1677 162.7995,-219.8605 169.7777,-220.4126\"/>\n<text text-anchor=\"middle\" x=\"194.5\" y=\"-231.8\" font-family=\"Times,serif\" font-size=\"14.00\" fill=\"#000000\">full&#45;time</text>\n</g>\n<!-- id_77096fa231394bc6a70c556da26b8a23 -->\n<g id=\"node7\" class=\"node\">\n<title>id_77096fa231394bc6a70c556da26b8a23</title>\n<polygon fill=\"none\" stroke=\"#000000\" points=\"271,-210 217,-210 217,-174 271,-174 271,-210\"/>\n<text text-anchor=\"middle\" x=\"244\" y=\"-188.3\" font-family=\"Times,serif\" font-size=\"14.00\" fill=\"#000000\">Patron</text>\n</g>\n<!-- id_398b0da434594386a51a470291d34d9c&#45;&gt;id_77096fa231394bc6a70c556da26b8a23 -->\n<g id=\"edge12\" class=\"edge\">\n<title>id_398b0da434594386a51a470291d34d9c&#45;&gt;id_77096fa231394bc6a70c556da26b8a23</title>\n<path fill=\"none\" stroke=\"#000000\" d=\"M215.4592,-260.9735C220.431,-248.9585 227.0593,-232.9401 232.6767,-219.3646\"/>\n<polygon fill=\"#000000\" stroke=\"#000000\" points=\"235.9608,-220.5818 236.5503,-210.0034 229.4927,-217.9053 235.9608,-220.5818\"/>\n<text text-anchor=\"middle\" x=\"246.5\" y=\"-231.8\" font-family=\"Times,serif\" font-size=\"14.00\" fill=\"#000000\">owner</text>\n</g>\n<!-- id_8e999ae42e6b48fc8fee31415650ed19 -->\n<g id=\"node14\" class=\"node\">\n<title>id_8e999ae42e6b48fc8fee31415650ed19</title>\n<text text-anchor=\"middle\" x=\"316\" y=\"-188.3\" font-family=\"Times,serif\" font-size=\"14.00\" fill=\"#000000\">True</text>\n</g>\n<!-- id_398b0da434594386a51a470291d34d9c&#45;&gt;id_8e999ae42e6b48fc8fee31415650ed19 -->\n<g id=\"edge13\" class=\"edge\">\n<title>id_398b0da434594386a51a470291d34d9c&#45;&gt;id_8e999ae42e6b48fc8fee31415650ed19</title>\n<path fill=\"none\" stroke=\"#000000\" d=\"M242.727,-260.8768C251.6366,-255.6003 260.966,-249.4925 269,-243 278.1777,-235.5833 287.2163,-226.3712 294.8774,-217.8252\"/>\n<polygon fill=\"#000000\" stroke=\"#000000\" points=\"297.5605,-220.0737 301.4904,-210.2347 292.2825,-215.4755 297.5605,-220.0737\"/>\n<text text-anchor=\"middle\" x=\"302.5\" y=\"-231.8\" font-family=\"Times,serif\" font-size=\"14.00\" fill=\"#000000\">family</text>\n</g>\n<!-- id_d38ea02f06f34d18aaaab8e5c6090117 -->\n<g id=\"node4\" class=\"node\">\n<title>id_d38ea02f06f34d18aaaab8e5c6090117</title>\n<text text-anchor=\"middle\" x=\"27\" y=\"-101.3\" font-family=\"Times,serif\" font-size=\"14.00\" fill=\"#000000\">False</text>\n</g>\n<!-- id_a428254d07544b2b8d157e3d45ab9ce9&#45;&gt;id_d38ea02f06f34d18aaaab8e5c6090117 -->\n<g id=\"edge2\" class=\"edge\">\n<title>id_a428254d07544b2b8d157e3d45ab9ce9&#45;&gt;id_d38ea02f06f34d18aaaab8e5c6090117</title>\n<path fill=\"none\" stroke=\"#000000\" d=\"M143.9147,-175.636C121.1308,-161.8707 88.356,-142.0693 63.3018,-126.9323\"/>\n<polygon fill=\"#000000\" stroke=\"#000000\" points=\"64.8225,-123.7619 54.4534,-121.5865 61.2027,-129.7534 64.8225,-123.7619\"/>\n<text text-anchor=\"middle\" x=\"112\" y=\"-144.8\" font-family=\"Times,serif\" font-size=\"14.00\" fill=\"#000000\">$</text>\n</g>\n<!-- id_48bfd6dccad54c609729a1067db6e57e -->\n<g id=\"node5\" class=\"node\">\n<title>id_48bfd6dccad54c609729a1067db6e57e</title>\n<text text-anchor=\"middle\" x=\"99\" y=\"-101.3\" font-family=\"Times,serif\" font-size=\"14.00\" fill=\"#000000\">True</text>\n</g>\n<!-- id_a428254d07544b2b8d157e3d45ab9ce9&#45;&gt;id_48bfd6dccad54c609729a1067db6e57e -->\n<g id=\"edge3\" class=\"edge\">\n<title>id_a428254d07544b2b8d157e3d45ab9ce9&#45;&gt;id_48bfd6dccad54c609729a1067db6e57e</title>\n<path fill=\"none\" stroke=\"#000000\" d=\"M156.0816,-173.9735C145.7519,-161.4919 131.8468,-144.6899 120.3471,-130.7944\"/>\n<polygon fill=\"#000000\" stroke=\"#000000\" points=\"122.9714,-128.4758 113.8993,-123.0034 117.5787,-132.9388 122.9714,-128.4758\"/>\n<text text-anchor=\"middle\" x=\"147\" y=\"-144.8\" font-family=\"Times,serif\" font-size=\"14.00\" fill=\"#000000\">$$</text>\n</g>\n<!-- id_26f2ab5759b648fcba7102770882f534 -->\n<g id=\"node6\" class=\"node\">\n<title>id_26f2ab5759b648fcba7102770882f534</title>\n<text text-anchor=\"middle\" x=\"171\" y=\"-101.3\" font-family=\"Times,serif\" font-size=\"14.00\" fill=\"#000000\">True</text>\n</g>\n<!-- id_a428254d07544b2b8d157e3d45ab9ce9&#45;&gt;id_26f2ab5759b648fcba7102770882f534 -->\n<g id=\"edge4\" class=\"edge\">\n<title>id_a428254d07544b2b8d157e3d45ab9ce9&#45;&gt;id_26f2ab5759b648fcba7102770882f534</title>\n<path fill=\"none\" stroke=\"#000000\" d=\"M171,-173.9735C171,-162.1918 171,-146.5607 171,-133.1581\"/>\n<polygon fill=\"#000000\" stroke=\"#000000\" points=\"174.5001,-133.0033 171,-123.0034 167.5001,-133.0034 174.5001,-133.0033\"/>\n<text text-anchor=\"middle\" x=\"182.5\" y=\"-144.8\" font-family=\"Times,serif\" font-size=\"14.00\" fill=\"#000000\">$$$</text>\n</g>\n<!-- id_30c8f24b36c54d539d2ba11bac35aace -->\n<g id=\"node8\" class=\"node\">\n<title>id_30c8f24b36c54d539d2ba11bac35aace</title>\n<text text-anchor=\"middle\" x=\"243\" y=\"-101.3\" font-family=\"Times,serif\" font-size=\"14.00\" fill=\"#000000\">False</text>\n</g>\n<!-- id_77096fa231394bc6a70c556da26b8a23&#45;&gt;id_30c8f24b36c54d539d2ba11bac35aace -->\n<g id=\"edge6\" class=\"edge\">\n<title>id_77096fa231394bc6a70c556da26b8a23&#45;&gt;id_30c8f24b36c54d539d2ba11bac35aace</title>\n<path fill=\"none\" stroke=\"#000000\" d=\"M243.7928,-173.9735C243.6574,-162.1918 243.4777,-146.5607 243.3237,-133.1581\"/>\n<polygon fill=\"#000000\" stroke=\"#000000\" points=\"246.8217,-132.9624 243.2069,-123.0034 239.8222,-133.043 246.8217,-132.9624\"/>\n<text text-anchor=\"middle\" x=\"257.5\" y=\"-144.8\" font-family=\"Times,serif\" font-size=\"14.00\" fill=\"#000000\">none</text>\n</g>\n<!-- id_1f30174f8d43420b943cac414f05a22b -->\n<g id=\"node9\" class=\"node\">\n<title>id_1f30174f8d43420b943cac414f05a22b</title>\n<polygon fill=\"none\" stroke=\"#000000\" points=\"342,-123 288,-123 288,-87 342,-87 342,-123\"/>\n<text text-anchor=\"middle\" x=\"315\" y=\"-101.3\" font-family=\"Times,serif\" font-size=\"14.00\" fill=\"#000000\">Price</text>\n</g>\n<!-- id_77096fa231394bc6a70c556da26b8a23&#45;&gt;id_1f30174f8d43420b943cac414f05a22b -->\n<g id=\"edge10\" class=\"edge\">\n<title>id_77096fa231394bc6a70c556da26b8a23&#45;&gt;id_1f30174f8d43420b943cac414f05a22b</title>\n<path fill=\"none\" stroke=\"#000000\" d=\"M260.5447,-173.9132C265.5948,-168.2532 271.1045,-161.9346 276,-156 282.5276,-148.0868 289.4022,-139.272 295.5307,-131.2265\"/>\n<polygon fill=\"#000000\" stroke=\"#000000\" points=\"298.3661,-133.2797 301.6013,-123.1909 292.7808,-129.0602 298.3661,-133.2797\"/>\n<text text-anchor=\"middle\" x=\"302.5\" y=\"-144.8\" font-family=\"Times,serif\" font-size=\"14.00\" fill=\"#000000\">some</text>\n</g>\n<!-- id_b2f204b6bdad45079ecb60ef9519ea6a -->\n<g id=\"node13\" class=\"node\">\n<title>id_b2f204b6bdad45079ecb60ef9519ea6a</title>\n<text text-anchor=\"middle\" x=\"387\" y=\"-101.3\" font-family=\"Times,serif\" font-size=\"14.00\" fill=\"#000000\">True</text>\n</g>\n<!-- id_77096fa231394bc6a70c556da26b8a23&#45;&gt;id_b2f204b6bdad45079ecb60ef9519ea6a -->\n<g id=\"edge11\" class=\"edge\">\n<title>id_77096fa231394bc6a70c556da26b8a23&#45;&gt;id_b2f204b6bdad45079ecb60ef9519ea6a</title>\n<path fill=\"none\" stroke=\"#000000\" d=\"M271.0441,-178.2649C274.0536,-176.8 277.084,-175.3524 280,-174 298.4236,-165.4551 304.53,-166.3558 322,-156 334.6839,-148.4813 347.6621,-138.7775 358.6531,-129.8558\"/>\n<polygon fill=\"#000000\" stroke=\"#000000\" points=\"361.1718,-132.3139 366.6328,-123.2349 356.702,-126.9268 361.1718,-132.3139\"/>\n<text text-anchor=\"middle\" x=\"352\" y=\"-144.8\" font-family=\"Times,serif\" font-size=\"14.00\" fill=\"#000000\">full</text>\n</g>\n<!-- id_440d9a5511c44d9bb04157a689dd4091 -->\n<g id=\"node10\" class=\"node\">\n<title>id_440d9a5511c44d9bb04157a689dd4091</title>\n<text text-anchor=\"middle\" x=\"243\" y=\"-14.3\" font-family=\"Times,serif\" font-size=\"14.00\" fill=\"#000000\">False</text>\n</g>\n<!-- id_1f30174f8d43420b943cac414f05a22b&#45;&gt;id_440d9a5511c44d9bb04157a689dd4091 -->\n<g id=\"edge7\" class=\"edge\">\n<title>id_1f30174f8d43420b943cac414f05a22b&#45;&gt;id_440d9a5511c44d9bb04157a689dd4091</title>\n<path fill=\"none\" stroke=\"#000000\" d=\"M300.0816,-86.9735C289.7519,-74.4919 275.8468,-57.6899 264.3471,-43.7944\"/>\n<polygon fill=\"#000000\" stroke=\"#000000\" points=\"266.9714,-41.4758 257.8993,-36.0034 261.5787,-45.9388 266.9714,-41.4758\"/>\n<text text-anchor=\"middle\" x=\"287\" y=\"-57.8\" font-family=\"Times,serif\" font-size=\"14.00\" fill=\"#000000\">$</text>\n</g>\n<!-- id_43e53203275f4964a48757263791a320 -->\n<g id=\"node11\" class=\"node\">\n<title>id_43e53203275f4964a48757263791a320</title>\n<text text-anchor=\"middle\" x=\"315\" y=\"-14.3\" font-family=\"Times,serif\" font-size=\"14.00\" fill=\"#000000\">True</text>\n</g>\n<!-- id_1f30174f8d43420b943cac414f05a22b&#45;&gt;id_43e53203275f4964a48757263791a320 -->\n<g id=\"edge8\" class=\"edge\">\n<title>id_1f30174f8d43420b943cac414f05a22b&#45;&gt;id_43e53203275f4964a48757263791a320</title>\n<path fill=\"none\" stroke=\"#000000\" d=\"M315,-86.9735C315,-75.1918 315,-59.5607 315,-46.1581\"/>\n<polygon fill=\"#000000\" stroke=\"#000000\" points=\"318.5001,-46.0033 315,-36.0034 311.5001,-46.0034 318.5001,-46.0033\"/>\n<text text-anchor=\"middle\" x=\"323\" y=\"-57.8\" font-family=\"Times,serif\" font-size=\"14.00\" fill=\"#000000\">$$</text>\n</g>\n<!-- id_585098a1c8434f8a861b750ee1b1bce3 -->\n<g id=\"node12\" class=\"node\">\n<title>id_585098a1c8434f8a861b750ee1b1bce3</title>\n<text text-anchor=\"middle\" x=\"387\" y=\"-14.3\" font-family=\"Times,serif\" font-size=\"14.00\" fill=\"#000000\">True</text>\n</g>\n<!-- id_1f30174f8d43420b943cac414f05a22b&#45;&gt;id_585098a1c8434f8a861b750ee1b1bce3 -->\n<g id=\"edge9\" class=\"edge\">\n<title>id_1f30174f8d43420b943cac414f05a22b&#45;&gt;id_585098a1c8434f8a861b750ee1b1bce3</title>\n<path fill=\"none\" stroke=\"#000000\" d=\"M329.9184,-86.9735C340.2481,-74.4919 354.1532,-57.6899 365.6529,-43.7944\"/>\n<polygon fill=\"#000000\" stroke=\"#000000\" points=\"368.4213,-45.9388 372.1007,-36.0034 363.0286,-41.4758 368.4213,-45.9388\"/>\n<text text-anchor=\"middle\" x=\"366.5\" y=\"-57.8\" font-family=\"Times,serif\" font-size=\"14.00\" fill=\"#000000\">$$$</text>\n</g>\n</g>\n</svg>\n"
          },
          "metadata": {},
          "execution_count": 6
        }
      ]
    },
    {
      "cell_type": "code",
      "source": [
        "#----------------------------\n",
        "# Test DT_learn class\n",
        "#----------------------------\n",
        "\n",
        "# 1. create instance\n",
        "# - the example below shows the XOR problem, with the input attributes 'x1' and 'x2'. \n",
        "# - just use plain old Python lists for the data. \n",
        "\n",
        "dt_learn = DT_learn(input_data=[[0,0], [0,1], [1,0], [1,1]], target_data=[0, 1, 1, 0], attr_list=['x1', 'x2'])\n",
        "\n",
        "# 2. train\n",
        "\n",
        "dt = dt_learn.learn()\n",
        "\n",
        "# 3. plot outcome\n",
        "\n",
        "dt.print()\n",
        "UID, dot = dt.plot_tree()\n",
        "dot"
      ],
      "metadata": {
        "colab": {
          "base_uri": "https://localhost:8080/",
          "height": 248
        },
        "id": "eqbeNZzWf1ck",
        "outputId": "4be1ac7d-f013-42c0-c191-edfbfbe7e329"
      },
      "execution_count": null,
      "outputs": [
        {
          "output_type": "stream",
          "name": "stdout",
          "text": [
            "Attr = [__Root__], Values: ['v1', 'v2']\n",
            "Child 0:    Leaf = False\n",
            "Child 1:    Leaf = True\n"
          ]
        },
        {
          "output_type": "execute_result",
          "data": {
            "text/plain": [
              "<graphviz.dot.Digraph at 0x7ff09fffcb10>"
            ],
            "image/svg+xml": "<?xml version=\"1.0\" encoding=\"UTF-8\" standalone=\"no\"?>\n<!DOCTYPE svg PUBLIC \"-//W3C//DTD SVG 1.1//EN\"\n \"http://www.w3.org/Graphics/SVG/1.1/DTD/svg11.dtd\">\n<!-- Generated by graphviz version 2.40.1 (20161225.0304)\n -->\n<!-- Title: %3 Pages: 1 -->\n<svg width=\"134pt\" height=\"131pt\"\n viewBox=\"0.00 0.00 134.00 131.00\" xmlns=\"http://www.w3.org/2000/svg\" xmlns:xlink=\"http://www.w3.org/1999/xlink\">\n<g id=\"graph0\" class=\"graph\" transform=\"scale(1 1) rotate(0) translate(4 127)\">\n<title>%3</title>\n<polygon fill=\"#ffffff\" stroke=\"transparent\" points=\"-4,4 -4,-127 130,-127 130,4 -4,4\"/>\n<!-- id_541879c414144ce6b17b350d2879d55c -->\n<g id=\"node1\" class=\"node\">\n<title>id_541879c414144ce6b17b350d2879d55c</title>\n<polygon fill=\"none\" stroke=\"#000000\" points=\"90,-123 36,-123 36,-87 90,-87 90,-123\"/>\n<text text-anchor=\"middle\" x=\"63\" y=\"-101.3\" font-family=\"Times,serif\" font-size=\"14.00\" fill=\"#000000\">Root</text>\n</g>\n<!-- id_7742c313f7514d2f90bf51ca6ca6f271 -->\n<g id=\"node2\" class=\"node\">\n<title>id_7742c313f7514d2f90bf51ca6ca6f271</title>\n<text text-anchor=\"middle\" x=\"27\" y=\"-14.3\" font-family=\"Times,serif\" font-size=\"14.00\" fill=\"#000000\">False</text>\n</g>\n<!-- id_541879c414144ce6b17b350d2879d55c&#45;&gt;id_7742c313f7514d2f90bf51ca6ca6f271 -->\n<g id=\"edge1\" class=\"edge\">\n<title>id_541879c414144ce6b17b350d2879d55c&#45;&gt;id_7742c313f7514d2f90bf51ca6ca6f271</title>\n<path fill=\"none\" stroke=\"#000000\" d=\"M55.5408,-86.9735C50.569,-74.9585 43.9407,-58.9401 38.3233,-45.3646\"/>\n<polygon fill=\"#000000\" stroke=\"#000000\" points=\"41.5073,-43.9053 34.4497,-36.0034 35.0392,-46.5818 41.5073,-43.9053\"/>\n<text text-anchor=\"middle\" x=\"56\" y=\"-57.8\" font-family=\"Times,serif\" font-size=\"14.00\" fill=\"#000000\">v1</text>\n</g>\n<!-- id_4e897a9d75164bf59c202e810cf17585 -->\n<g id=\"node3\" class=\"node\">\n<title>id_4e897a9d75164bf59c202e810cf17585</title>\n<text text-anchor=\"middle\" x=\"99\" y=\"-14.3\" font-family=\"Times,serif\" font-size=\"14.00\" fill=\"#000000\">True</text>\n</g>\n<!-- id_541879c414144ce6b17b350d2879d55c&#45;&gt;id_4e897a9d75164bf59c202e810cf17585 -->\n<g id=\"edge2\" class=\"edge\">\n<title>id_541879c414144ce6b17b350d2879d55c&#45;&gt;id_4e897a9d75164bf59c202e810cf17585</title>\n<path fill=\"none\" stroke=\"#000000\" d=\"M70.4592,-86.9735C75.431,-74.9585 82.0593,-58.9401 87.6767,-45.3646\"/>\n<polygon fill=\"#000000\" stroke=\"#000000\" points=\"90.9608,-46.5818 91.5503,-36.0034 84.4927,-43.9053 90.9608,-46.5818\"/>\n<text text-anchor=\"middle\" x=\"91\" y=\"-57.8\" font-family=\"Times,serif\" font-size=\"14.00\" fill=\"#000000\">v2</text>\n</g>\n</g>\n</svg>\n"
          },
          "metadata": {},
          "execution_count": 7
        }
      ]
    },
    {
      "cell_type": "markdown",
      "source": [
        "\n",
        "\n",
        "\n",
        "# [Extra Code] A simple tutorial on how to plot graphs using Graphviz\n"
      ],
      "metadata": {
        "id": "7dPONKUH1mYK"
      }
    },
    {
      "cell_type": "code",
      "source": [
        "#---------------------------\n",
        "# You can use graphviz to plot the trees\n",
        "#---------------------------\n",
        "\n",
        "import graphviz\n",
        "\n",
        "# 1. create graph object\n",
        "\n",
        "dot = graphviz.Digraph(comment='Decision Tree')\n",
        "\n",
        "# 2. Add nodes\n",
        "\n",
        "dot.node('P',label='Patron',shape='box')\n",
        "dot.node('Y',label='Yes', shape='plaintext')\n",
        "dot.node('N',label='No', shape='plaintext')\n",
        "\n",
        "dot.node('T','Type', shape='box')\n",
        "\n",
        "# 3. Add connections\n",
        "dot.edge('P','N',label='No')\n",
        "dot.edge('P','Y',label='Some')\n",
        "dot.edge('P','T',label='Yes')\n",
        "\n",
        "# 4. Plot tree\n",
        "dot"
      ],
      "metadata": {
        "colab": {
          "base_uri": "https://localhost:8080/",
          "height": 196
        },
        "id": "pWhF9W681EK4",
        "outputId": "e416964d-04a5-476c-af6f-8af286d9d098"
      },
      "execution_count": null,
      "outputs": [
        {
          "output_type": "execute_result",
          "data": {
            "text/plain": [
              "<graphviz.dot.Digraph at 0x7ff09ffa5350>"
            ],
            "image/svg+xml": "<?xml version=\"1.0\" encoding=\"UTF-8\" standalone=\"no\"?>\n<!DOCTYPE svg PUBLIC \"-//W3C//DTD SVG 1.1//EN\"\n \"http://www.w3.org/Graphics/SVG/1.1/DTD/svg11.dtd\">\n<!-- Generated by graphviz version 2.40.1 (20161225.0304)\n -->\n<!-- Title: %3 Pages: 1 -->\n<svg width=\"206pt\" height=\"131pt\"\n viewBox=\"0.00 0.00 206.00 131.00\" xmlns=\"http://www.w3.org/2000/svg\" xmlns:xlink=\"http://www.w3.org/1999/xlink\">\n<g id=\"graph0\" class=\"graph\" transform=\"scale(1 1) rotate(0) translate(4 127)\">\n<title>%3</title>\n<polygon fill=\"#ffffff\" stroke=\"transparent\" points=\"-4,4 -4,-127 202,-127 202,4 -4,4\"/>\n<!-- P -->\n<g id=\"node1\" class=\"node\">\n<title>P</title>\n<polygon fill=\"none\" stroke=\"#000000\" points=\"126,-123 72,-123 72,-87 126,-87 126,-123\"/>\n<text text-anchor=\"middle\" x=\"99\" y=\"-101.3\" font-family=\"Times,serif\" font-size=\"14.00\" fill=\"#000000\">Patron</text>\n</g>\n<!-- Y -->\n<g id=\"node2\" class=\"node\">\n<title>Y</title>\n<text text-anchor=\"middle\" x=\"27\" y=\"-14.3\" font-family=\"Times,serif\" font-size=\"14.00\" fill=\"#000000\">Yes</text>\n</g>\n<!-- P&#45;&gt;Y -->\n<g id=\"edge2\" class=\"edge\">\n<title>P&#45;&gt;Y</title>\n<path fill=\"none\" stroke=\"#000000\" d=\"M78.0416,-86.7383C72.2538,-81.2805 66.1532,-75.1155 61,-69 54.6551,-61.4702 48.4549,-52.7208 43.1238,-44.6171\"/>\n<polygon fill=\"#000000\" stroke=\"#000000\" points=\"46.0531,-42.7012 37.7144,-36.1654 40.1573,-46.4748 46.0531,-42.7012\"/>\n<text text-anchor=\"middle\" x=\"78\" y=\"-57.8\" font-family=\"Times,serif\" font-size=\"14.00\" fill=\"#000000\">Some</text>\n</g>\n<!-- N -->\n<g id=\"node3\" class=\"node\">\n<title>N</title>\n<text text-anchor=\"middle\" x=\"99\" y=\"-14.3\" font-family=\"Times,serif\" font-size=\"14.00\" fill=\"#000000\">No</text>\n</g>\n<!-- P&#45;&gt;N -->\n<g id=\"edge1\" class=\"edge\">\n<title>P&#45;&gt;N</title>\n<path fill=\"none\" stroke=\"#000000\" d=\"M99,-86.9735C99,-75.1918 99,-59.5607 99,-46.1581\"/>\n<polygon fill=\"#000000\" stroke=\"#000000\" points=\"102.5001,-46.0033 99,-36.0034 95.5001,-46.0034 102.5001,-46.0033\"/>\n<text text-anchor=\"middle\" x=\"108.5\" y=\"-57.8\" font-family=\"Times,serif\" font-size=\"14.00\" fill=\"#000000\">No</text>\n</g>\n<!-- T -->\n<g id=\"node4\" class=\"node\">\n<title>T</title>\n<polygon fill=\"none\" stroke=\"#000000\" points=\"198,-36 144,-36 144,0 198,0 198,-36\"/>\n<text text-anchor=\"middle\" x=\"171\" y=\"-14.3\" font-family=\"Times,serif\" font-size=\"14.00\" fill=\"#000000\">Type</text>\n</g>\n<!-- P&#45;&gt;T -->\n<g id=\"edge3\" class=\"edge\">\n<title>P&#45;&gt;T</title>\n<path fill=\"none\" stroke=\"#000000\" d=\"M113.9184,-86.9735C124.2481,-74.4919 138.1532,-57.6899 149.6529,-43.7944\"/>\n<polygon fill=\"#000000\" stroke=\"#000000\" points=\"152.4213,-45.9388 156.1007,-36.0034 147.0286,-41.4758 152.4213,-45.9388\"/>\n<text text-anchor=\"middle\" x=\"149.5\" y=\"-57.8\" font-family=\"Times,serif\" font-size=\"14.00\" fill=\"#000000\">Yes</text>\n</g>\n</g>\n</svg>\n"
          },
          "metadata": {},
          "execution_count": 8
        }
      ]
    }
  ]
}