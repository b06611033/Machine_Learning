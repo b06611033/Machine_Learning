{
  "nbformat": 4,
  "nbformat_minor": 0,
  "metadata": {
    "colab": {
      "provenance": [],
      "toc_visible": true,
      "collapsed_sections": [
        "M2s4WcOkUAWc",
        "7wfL4SFjCmx3",
        "klTShQ_9I7ia",
        "TFGRjOOnhK0S"
      ]
    },
    "kernelspec": {
      "display_name": "Python 3",
      "name": "python3"
    }
  },
  "cells": [
    {
      "cell_type": "markdown",
      "metadata": {
        "id": "5D48bskJS25M"
      },
      "source": [
        "\n",
        "# CSCE633 Fall 2022 (Total 100 pts)\n",
        "\n",
        "**Machine Learning**\n",
        "\n",
        "**Homework 4**\n",
        "\n",
        "Instructor: Yoonsuck Choe\n",
        "\n",
        "Nov 4, 2022\n",
        "\n",
        "\n",
        "---"
      ]
    },
    {
      "cell_type": "markdown",
      "metadata": {
        "id": "PTadtehSTEem"
      },
      "source": [
        "Student name:  Hou, Po Han\n",
        "\n",
        "\n",
        "---"
      ]
    },
    {
      "cell_type": "markdown",
      "metadata": {
        "id": "seH0_JOMTS2c"
      },
      "source": [
        "# Common instructions (Read carefully)"
      ]
    },
    {
      "cell_type": "markdown",
      "metadata": {
        "id": "VRafXus3T2bg"
      },
      "source": [
        "**Submission:**\n",
        "\n",
        "1. After you complete each section, \"Save and pin\" the revision. (**File -> Save and pin revision**). \n",
        "> There will be a 20-point penalty for not including revision history in the submission as instructed below.\n",
        "2. When you're ready to submit, \n",
        "> 1. download the ipynb file (**File -> Download .ipynb**).\n",
        "> 2. take screenshot of revision history, by comparing each successive pinned revisions (there will be several of these: final vs. latest pin, latest pin vs. previous pin, etc.). (**File -> Revision history**, then click on the radio buttons for pinned revisions to compare. Scroll down to the part that shows the major revised part, and take a screenshot. No need to show the entire revision history.)\n",
        "> 3. submit a zip file **lastname-firstname.zip** containing the ipynb file and all revision screenshots.\n",
        "\n",
        "**Using the markup language in the \"text\" boxes:**\n",
        "\n",
        "Note: See https://colab.research.google.com/notebooks/markdown_guide.ipynb#scrollTo=70pYkR9LiOV0 for how to use the markdown when writing your answer in the text boxes.\n",
        "\n",
        "**NEW: Including images/screenshots**\n",
        "\n",
        "When including screenshots directly into the text cell, the markup source can get too long. To avoid this, you can upload your images to good drive, make them publicly viewable, get the share link, get the id string  from the link (for example, 1IDUkDGqQ1xSKOT3Wg8SKgAlKsDIdUQUy), and insert a tag like below:  \n",
        "```\n",
        "<img src=\"https://drive.google.com/uc?export=view&id=1IDUkDGqQ1xSKOT3Wg8SKgAlKsDIdUQUy\"> \n",
        "```"
      ]
    },
    {
      "cell_type": "markdown",
      "metadata": {
        "id": "M2s4WcOkUAWc"
      },
      "source": [
        "# Section I: Dimensionality Reduction"
      ]
    },
    {
      "cell_type": "markdown",
      "metadata": {
        "id": "yEQeQmGMpAc6"
      },
      "source": [
        "**Problem 1 (Written: 10pts):** \n",
        "\n",
        "Consider the data sets below: Data set 1 = Spiral data, Data set 2 = Point cloud data, and Data set 3 = simple data. You can plot the data first. \n",
        "- Plot the first column in the data against the second column\n",
        "``` D1[:,0] , D1[:,1] ```\n",
        "- Make sure you use aspect ratio of 1 when plotting, so that the x- and y-axis have the same scale.\n",
        "```\n",
        "fig=plt.figure()\n",
        "ax=fig.add_subplot(1,1,1)\n",
        "ax.set_aspect(1)\n",
        "plt.plot(....)\n",
        "```\n",
        "- Use \".\" for plotting style:  \n",
        "```plt.plot(...,\".\") ```\n",
        "\n",
        "(1) Which of the three data sets D1, D2, and D3 would be the most appropriate for PCA analysis, in terms of dimensionality reduction (2D to 1D)? Explain why.\n",
        "\n",
        "(2) Which of the three data sets D1, D2, and D3 would be the least appropriate for  PCA analysis, in terms of dimensionality reduction (2D to 1D)? Explain why.\n",
        "\n",
        "**Hint:** \n",
        "- Although the data are not labled into different classes, you may be able to \"see\" two possible groups of points in each data set. When you use  PCA to project all the data points to the PCA space (using the 1st and 2nd principal component vectors), would you be able to distinguish the two groups, just based on the 1st principal component axis? \n",
        "- Also, you can think about the variance in the original data (along the two axes) and the variance in the resulting projection (along the two principal component axes). \n",
        "\n"
      ]
    },
    {
      "cell_type": "markdown",
      "metadata": {
        "id": "njzmqsUMKRzE"
      },
      "source": [
        "**Answer:**\n",
        "\n",
        "Fill out the code cell below for the plot, and enter your answer here:\n",
        "\n",
        "(1) D3 is the most appropriate, because the data points at the upper right and the data points at the lower left can be easily distinguished.\n",
        "\n",
        "(2) D1 is the least appropriate, because I can't distinguish the two groups in 2D space, not to mention after reducing it to 1D\n"
      ]
    },
    {
      "cell_type": "code",
      "metadata": {
        "id": "KWR8LeoSh2zm",
        "colab": {
          "base_uri": "https://localhost:8080/",
          "height": 761
        },
        "outputId": "5798bad7-8736-4c7b-8903-2b970a9fbb43"
      },
      "source": [
        "import numpy as np\n",
        "import matplotlib.pyplot as plt\n",
        "\n",
        "\n",
        "#--------------------\n",
        "def spiral_1(t):\n",
        "#--------------------\n",
        "  '''\n",
        "  parametric curve of a spiral : clockwise\n",
        "  '''\n",
        "  rand_factor = 1.0\n",
        "\n",
        "  dat   = np.array([(t+1)*np.sin(t+5), (t+1)*np.cos(t+5)])\n",
        "  noise = np.random.rand(2,len(dat[0,:]))*rand_factor\n",
        "  return (dat+noise-0.5)/7.5\n",
        "\n",
        "\n",
        "\"\"\"\n",
        "Data set 1 : D1 = spiral like data\n",
        "\n",
        "- This is a variation on the parametric plot for a circle [cos(t), sin(t)], with a gradually increasing radius. \n",
        "\"\"\"\n",
        "\n",
        "# data set 1 [x, y]\n",
        "\n",
        "t = np.arange(0, 6*np.pi, 0.1)\n",
        "D1 =  np.transpose(spiral_1(t))\n",
        "\n",
        "# Plot it\n",
        "# -- add your plotting code here\n",
        "\n",
        "\n",
        "\"\"\"\n",
        "Data set 2 : D2 = point cloud data (normal distribution)\n",
        "\"\"\"\n",
        "\n",
        "x = np.append(np.random.normal(0,1,400),   np.random.normal(5.3,2,400))\n",
        "y = np.append(np.random.normal(0,1,400),   np.random.normal(5.3,2,400))\n",
        "\n",
        "D2 = np.vstack((x,y)).T\n",
        "\n",
        "# Plot it \n",
        "# -- add your plotting code here\n",
        "\n",
        "\"\"\"\n",
        "Data set 3: D3 = simple data\n",
        "\"\"\"\n",
        "\n",
        "D3 = np.array([[-1, -1], [-2, -1], [-3, -2], [1, 1], [2, 1], [3, 2]])\n",
        "\n",
        "# Plot it\n",
        "# -- add your plotting code here : use aspect ratio 1 (see below)\n",
        "# plot\n",
        "fig = plt.figure() \n",
        "ax = fig.add_subplot(111)\n",
        "ax.plot(D1[:,0] , D1[:,1],'.')  \n",
        "ax.set_aspect('equal') # set aspect ratio to 1.0\n",
        "\n",
        "fig = plt.figure() \n",
        "ax = fig.add_subplot(111)\n",
        "ax.plot(D2[:,0] , D2[:,1],'.')  \n",
        "ax.set_aspect('equal') # set aspect ratio to 1.0\n",
        "\n",
        "fig = plt.figure() \n",
        "ax = fig.add_subplot(111)\n",
        "ax.plot(D3[:,0] , D3[:,1],'.')  \n",
        "ax.set_aspect('equal') # set aspect ratio to 1.0\n"
      ],
      "execution_count": null,
      "outputs": [
        {
          "output_type": "display_data",
          "data": {
            "text/plain": [
              "<Figure size 432x288 with 1 Axes>"
            ],
            "image/png": "[encoded data removed]"
          },
          "metadata": {
            "needs_background": "light"
          }
        },
        {
          "output_type": "display_data",
          "data": {
            "text/plain": [
              "<Figure size 432x288 with 1 Axes>"
            ],
            "image/png": "[encoded data removed]"
          },
          "metadata": {
            "needs_background": "light"
          }
        },
        {
          "output_type": "display_data",
          "data": {
            "text/plain": [
              "<Figure size 432x288 with 1 Axes>"
            ],
            "image/png": "[encoded data removed]"
          },
          "metadata": {
            "needs_background": "light"
          }
        }
      ]
    },
    {
      "cell_type": "code",
      "source": [
        "# Example plotting code\n",
        "\n",
        "# data \n",
        "x = np.random.normal(0,1,400)\n",
        "y = np.random.normal(0,1,400)\n",
        "\n",
        "# plot\n",
        "fig = plt.figure() \n",
        "ax = fig.add_subplot(111)\n",
        "ax.plot(x,y,'.')  \n",
        "ax.set_aspect('equal') # set aspect ratio to 1.0"
      ],
      "metadata": {
        "colab": {
          "base_uri": "https://localhost:8080/",
          "height": 265
        },
        "id": "XvyMvLUBV1lA",
        "outputId": "c2c4e5a6-9273-4210-ccfb-415d692c87b6"
      },
      "execution_count": null,
      "outputs": [
        {
          "output_type": "display_data",
          "data": {
            "text/plain": [
              "<Figure size 432x288 with 1 Axes>"
            ],
            "image/png": "[encoded data removed]"
          },
          "metadata": {
            "needs_background": "light"
          }
        }
      ]
    },
    {
      "cell_type": "markdown",
      "metadata": {
        "id": "awK0qdPXnZ45"
      },
      "source": [
        "**Problem 2 (Program: 15pt)**\n",
        "\n",
        "Use scikit learn's PCA package to analyze the data set from problem 1. Use the template below.\n",
        "\n",
        "```\n",
        "from sklearn.decomposition import PCA\n",
        "\n",
        "X = .... # data (you can reuse D1, D2, D3 from above (Problem 1)\n",
        "\n",
        "# plot X : X[:,0] against X[:,1]\n",
        "\n",
        "pca = PCA(n_components=2)\n",
        "pca.fit(X)\n",
        "print(pca.singular_values_)\n",
        "\n",
        "Z = pca.fit_transform(X)\n",
        "\n",
        "\n",
        "# plot Z : Z[:,0] against Z[:,1]\n",
        "\n",
        "```\n",
        "\n",
        "For each of the three data sets D1, D2, D3: \n",
        "\n",
        "(1) [1pt] Plot the original data set (X). Fix aspect ratio to 1. \n",
        "\n",
        "(2) [1pt] Plot the projected data set (Z). Fix aspect ratio to 1. \n",
        "\n",
        "(3) [2pt] Compare the variance along the first and second principal component vectors (```pca.singular_values_```) for each data set.\n",
        "\n",
        "- D1: \n",
        "- D2:\n",
        "- D3: \n",
        "\n",
        "(4) [6pt] Comment on how these results relate to your answers in Problem 1. \n",
        "\n",
        "\n",
        "\n"
      ]
    },
    {
      "cell_type": "markdown",
      "metadata": {
        "id": "cLLWW8Z_qnjJ"
      },
      "source": [
        "**Answer:**\n",
        "\n",
        "Fill out the code in the code cell below, and enter your answer here: \n",
        "\n",
        "(1) Just refer to the code below. \n",
        "\n",
        "(2) Just refer to the code below.\n",
        "\n",
        "(3) \n",
        "D1: Very low variance between the two vectors\n",
        "\n",
        "D2: Large variance between the two vectors\n",
        "\n",
        "D3: Large variance between the two vectors\n",
        "\n",
        "(4) These results are similar to my observations in problem 1. D1 can't be distinguished, no matter before projection or after. D2 and D3 has large varaince after projection. Although D2's vectors has larger variance due to its larger value and scale, I believe D3 can be more easily distinguished because it has clearer borders after projection.\n"
      ]
    },
    {
      "cell_type": "code",
      "metadata": {
        "colab": {
          "base_uri": "https://localhost:8080/",
          "height": 548
        },
        "id": "LUT3C6MCtfN8",
        "outputId": "eb1c0bb2-bf33-4294-9596-001b889b496f"
      },
      "source": [
        "from numpy.ma.core import size\n",
        "\"\"\"\n",
        "Write your PCA code here, and plot the original data and the projected data \n",
        "\"\"\"\n",
        "import numpy as np\n",
        "import matplotlib.pyplot as plt\n",
        "from sklearn.decomposition import PCA\n",
        "\n",
        "#--------------------\n",
        "def spiral_1(t):\n",
        "#--------------------\n",
        "  '''\n",
        "  parametric curve of a spiral : clockwise\n",
        "  '''\n",
        "  rand_factor = 1.0\n",
        "\n",
        "  dat   = np.array([(t+1)*np.sin(t+5), (t+1)*np.cos(t+5)])\n",
        "  noise = np.random.rand(2,len(dat[0,:]))*rand_factor\n",
        "  return (dat+noise-0.5)/7.5\n",
        "\n",
        "#X = np.array([[-1, -1], [1,1]]) # data (you can reuse D1, D2, D3 from above (Problem 1)\n",
        "\n",
        "# IMPLEMENT THIS: plot the input X here : X[:,0] against X[:,1]\n",
        "# data set 1 [x, y]\n",
        "\n",
        "t = np.arange(0, 6*np.pi, 0.1)\n",
        "D1 =  np.transpose(spiral_1(t))\n",
        "\n",
        "maxdist = 0\n",
        "prevx = 0\n",
        "prevy = 0\n",
        "for i in range (D1.shape[0]):\n",
        "  currx = D1[i][0]\n",
        "  curry = D1[i][1]\n",
        "  dist = pow(pow(currx - prevx, 2) + pow(curry - prevy, 2), 0.5)\n",
        "  maxdist = max(maxdist, dist)\n",
        "  prevx = currx\n",
        "  prevy = curry\n",
        "\n",
        "print(\"largest distance between 2 adjacent points: \" + str(maxdist))\n",
        "\n",
        "fig = plt.figure() \n",
        "ax = fig.add_subplot(111)\n",
        "ax.plot(D1[:,0] , D1[:,1],'.')  \n",
        "ax.set_aspect('equal') # set aspect ratio to 1.0\n",
        "\n",
        "\n",
        "# 1. set up with input dimension = 2\n",
        "pca = PCA(n_components=2)\n",
        "\n",
        "# 2. analyze data X \n",
        "pca.fit(D1)\n",
        "\n",
        "# 3. print eigenvalues \n",
        "print(pca.singular_values_)\n",
        "\n",
        "# 4. project data X to PCA space \n",
        "Z1 = pca.fit_transform(D1)\n",
        "\n",
        "# IMPLEMENT THIS: plot the projected Z here : Z[:,0] against Z[:,1]\n",
        "fig = plt.figure() \n",
        "ax = fig.add_subplot(111)\n",
        "ax.plot(Z1[:,0] , Z1[:,1],'.')  \n",
        "ax.set_aspect('equal') # set aspect ratio to 1.0\n",
        "\n",
        "\n"
      ],
      "execution_count": null,
      "outputs": [
        {
          "output_type": "stream",
          "name": "stdout",
          "text": [
            "largest distance between 2 adjacent points: 0.3431086833642798\n",
            "[15.75789643 14.53975199]\n"
          ]
        },
        {
          "output_type": "display_data",
          "data": {
            "text/plain": [
              "<Figure size 432x288 with 1 Axes>"
            ],
            "image/png": "[encoded data removed]"
          },
          "metadata": {
            "needs_background": "light"
          }
        },
        {
          "output_type": "display_data",
          "data": {
            "text/plain": [
              "<Figure size 432x288 with 1 Axes>"
            ],
            "image/png": "[encoded data removed]"
          },
          "metadata": {
            "needs_background": "light"
          }
        }
      ]
    },
    {
      "cell_type": "code",
      "source": [
        "from sklearn.decomposition import PCA\n",
        "\n",
        "#X = np.array([[-1, -1], [1,1]]) # data (you can reuse D1, D2, D3 from above (Problem 1)\n",
        "\n",
        "# IMPLEMENT THIS: plot the input X here : X[:,0] against X[:,1]\n",
        "# data set 1 [x, y]\n",
        "\n",
        "x = np.append(np.random.normal(0,1,400),   np.random.normal(5.3,2,400))\n",
        "y = np.append(np.random.normal(0,1,400),   np.random.normal(5.3,2,400))\n",
        "\n",
        "D2 = np.vstack((x,y)).T\n",
        "\n",
        "\n",
        "fig = plt.figure() \n",
        "ax = fig.add_subplot(111)\n",
        "ax.plot(D2[:,0] , D2[:,1],'.')  \n",
        "ax.set_aspect('equal') # set aspect ratio to 1.0\n",
        "\n",
        "\n",
        "# 1. set up with input dimension = 2\n",
        "pca = PCA(n_components=2)\n",
        "\n",
        "# 2. analyze data X \n",
        "pca.fit(D2)\n",
        "\n",
        "# 3. print eigenvalues \n",
        "print(pca.singular_values_)\n",
        "\n",
        "# 4. project data X to PCA space \n",
        "Z2 = pca.fit_transform(D2)\n",
        "\n",
        "# IMPLEMENT THIS: plot the projected Z here : Z[:,0] against Z[:,1]\n",
        "fig = plt.figure() \n",
        "ax = fig.add_subplot(111)\n",
        "ax.plot(Z2[:,0] , Z2[:,1],'.')  \n",
        "ax.set_aspect('equal') # set aspect ratio to 1.0"
      ],
      "metadata": {
        "colab": {
          "base_uri": "https://localhost:8080/",
          "height": 533
        },
        "id": "Yq0BdThzD5J4",
        "outputId": "f6737020-6928-4c02-c20f-cd94c312cfba"
      },
      "execution_count": null,
      "outputs": [
        {
          "output_type": "stream",
          "name": "stdout",
          "text": [
            "[114.72052314  45.0978835 ]\n"
          ]
        },
        {
          "output_type": "display_data",
          "data": {
            "text/plain": [
              "<Figure size 432x288 with 1 Axes>"
            ],
            "image/png": "[encoded data removed]"
          },
          "metadata": {
            "needs_background": "light"
          }
        },
        {
          "output_type": "display_data",
          "data": {
            "text/plain": [
              "<Figure size 432x288 with 1 Axes>"
            ],
            "image/png": "[encoded data removed]"
          },
          "metadata": {
            "needs_background": "light"
          }
        }
      ]
    },
    {
      "cell_type": "code",
      "source": [
        "from sklearn.decomposition import PCA\n",
        "\n",
        "#X = np.array([[-1, -1], [1,1]]) # data (you can reuse D1, D2, D3 from above (Problem 1)\n",
        "\n",
        "# IMPLEMENT THIS: plot the input X here : X[:,0] against X[:,1]\n",
        "# data set 1 [x, y]\n",
        "\n",
        "D3 = np.array([[-1, -1], [-2, -1], [-3, -2], [1, 1], [2, 1], [3, 2]])\n",
        "\n",
        "\n",
        "fig = plt.figure() \n",
        "ax = fig.add_subplot(111)\n",
        "ax.plot(D3[:,0] , D3[:,1],'.')  \n",
        "ax.set_aspect('equal') # set aspect ratio to 1.0\n",
        "\n",
        "\n",
        "# 1. set up with input dimension = 2\n",
        "pca = PCA(n_components=2)\n",
        "\n",
        "# 2. analyze data X \n",
        "pca.fit(D3)\n",
        "\n",
        "# 3. print eigenvalues \n",
        "print(pca.singular_values_)\n",
        "\n",
        "# 4. project data X to PCA space \n",
        "Z3 = pca.fit_transform(D3)\n",
        "\n",
        "# IMPLEMENT THIS: plot the projected Z here : Z[:,0] against Z[:,1]\n",
        "fig = plt.figure() \n",
        "ax = fig.add_subplot(111)\n",
        "ax.plot(Z3[:,0] , Z3[:,1],'.')  \n",
        "ax.set_aspect('equal') # set aspect ratio to 1.0"
      ],
      "metadata": {
        "colab": {
          "base_uri": "https://localhost:8080/",
          "height": 341
        },
        "id": "CVcvs1dxET2Y",
        "outputId": "47a4a354-0dd6-418f-a626-6de5446e1927"
      },
      "execution_count": null,
      "outputs": [
        {
          "output_type": "stream",
          "name": "stdout",
          "text": [
            "[6.30061232 0.54980396]\n"
          ]
        },
        {
          "output_type": "display_data",
          "data": {
            "text/plain": [
              "<Figure size 432x288 with 1 Axes>"
            ],
            "image/png": "[encoded data removed]"
          },
          "metadata": {
            "needs_background": "light"
          }
        },
        {
          "output_type": "display_data",
          "data": {
            "text/plain": [
              "<Figure size 432x288 with 1 Axes>"
            ],
            "image/png": "[encoded data removed]"
          },
          "metadata": {
            "needs_background": "light"
          }
        }
      ]
    },
    {
      "cell_type": "markdown",
      "metadata": {
        "id": "k4vN-kIzbuaB"
      },
      "source": [
        "**Problem 3 (Written: 15 pts):**\n",
        "\n",
        "(1) Explain why manifold learning can effectively handle data like the data set D1 in Problem 1 (the spiral data). [5pt]\n",
        "\n",
        "(2) For the spiral data (data set D1), what would be an appropriate $\\epsilon$ value for use in ISOMAP? Give a specific value as your answer (e.g. $\\epsilon = 2.5$), and explain your reasoning. **Hint:** By eyeballing the data, you can see that $\\epsilon$ cannot be less than a certain value (graph will be disconnected), while it cannot be greater than a certain value (points across different parts of the spiral will be connected), in order to recover the manifold structure. Pick a number between these two bounds.  [10pt] \n"
      ]
    },
    {
      "cell_type": "markdown",
      "metadata": {
        "id": "-cNhbGxUh4AZ"
      },
      "source": [
        "**Answer:**\n",
        "\n",
        "(1) Manifold learning can handle spiral data, because spiral data doesn't contain sharp points, so any location can be represented as lower dimension flat surface. Therefore, the whole data can be reduced to lower dimension by ISOMAP algorithm. \n",
        "\n",
        "(2) $\\epsilon = 0.5$ would be a appropriate value, because as the program above shows, the largest distance between two adjacent point is 0.34, and the approximate distance between different parts is 0.66. Therefore, $\\epsilon = 0.5$ will not cause disconnection, neither will it connect points from different parts. "
      ]
    },
    {
      "cell_type": "markdown",
      "metadata": {
        "id": "7wfL4SFjCmx3"
      },
      "source": [
        "# Section II: Conditional Independence "
      ]
    },
    {
      "cell_type": "markdown",
      "metadata": {
        "id": "pY-hX8jtpknb"
      },
      "source": [
        "**Problem 4 (Written: 10pts)**\n",
        "\n",
        "Consider three binary variables $a, b, c \\in \\{0,1\\}$ having the\n",
        "joint probability distribution given in the table below. Show by direct\n",
        "evaluation that this distribution has the property that $a$ and $b$ are \n",
        "dependent, so that $P(a,b) \\neq P(a)p(b)$, but that they become independent\n",
        "when conditioned on $c$, so that $ P(a,b|c) = P(a|c)p(b|c)$ for both\n",
        "$c=0$ and $c=1$ [adapted from C. M. Bishop, *Pattern Recognition and Machine Learning*, Springer, 2006].\n",
        "\n",
        "> $a$ | $b$ | $c$ | P($a$,$b$,$c$)\n",
        "> --- | --- | --- | ---\n",
        "> 0 | 0 | 0 | 0.375 \n",
        "> 0 | 0 | 1 | <strike>0.005</strike> 0.05 (typo fixed!)\n",
        "> 0 | 1 | 0 | 0.041667 \n",
        "> 0 | 1 | 1 | 0.075\n",
        "> 1 | 0 | 0 | 0.075 \n",
        "> 1 | 0 | 1 | 0.15\n",
        "> 1 | 1 | 0 | 0.008333\n",
        "> 1 | 1 | 1 | 0.225\n"
      ]
    },
    {
      "cell_type": "markdown",
      "metadata": {
        "id": "mHSXXDrciHRj"
      },
      "source": [
        "**Answer:**\n",
        "\n",
        "\n",
        "Tabulate your results in the following format:\n",
        "\n",
        "> $a$ | $b$ | P($a$,$b$) | P($a$)P($b$)\n",
        "> --- | --- | --- | ---\n",
        "> 0 | 0 | 0.425| 0.35208355\n",
        "> 0 | 1 | 0.116667 | 0.18958345 \n",
        "> 1 | 0 | 0.225| 0.29791645\n",
        "> 1 | 1 | 0.233333| 0.16041655\n",
        "\n",
        "> $a$ | $b$ | $c$ | P($a$,$b$$\\mid$$c$) | P($a|c$)P($b|c$)\n",
        "> --- | --- | --- | --- | ---\n",
        "> 0 | 0 | 0 | 0.75 | 0.7500006 \n",
        "> 0 | 0 | 1 | 0.1 | 0.1 \n",
        "> 0 | 1 | 0 | 0.083334| 0.0833334\n",
        "> 0 | 1 | 1 | 0.15| 0.15\n",
        "> 1 | 0 | 0 | 0.15 | 0.1499994\n",
        "> 1 | 0 | 1 | 0.3| 0.3 \n",
        "> 1 | 1 | 0 | 0.016666| 0.0166666\n",
        "> 1 | 1 | 1 | 0.45| 0.45"
      ]
    },
    {
      "cell_type": "markdown",
      "metadata": {
        "id": "Vqt09dt6Gvz4"
      },
      "source": [
        "**Program 5 (Written: 10pts)**\n",
        "\n",
        "How is the above result related to the concept of conditional independence $P(a|b,c) = P(a|c)$, $a$ is independent from $b$ given $c$? (derive $P(a|b,c) = P(a|c)$ if $ P(a,b|c) = P(a|c)p(b|c)$: **DO NOT** simply plug in the probability values from above."
      ]
    },
    {
      "cell_type": "markdown",
      "metadata": {
        "id": "5HIBxBZnjQXG"
      },
      "source": [
        "**Answer**:\n",
        "\n",
        "Given $P(a,b|c) = P(a|c)P(b|c)$\n",
        "\n",
        "Show $P(a|b,c) = \\frac{P(a,b,c)}{P(b,c)} = \\frac{P(a,b|c)P(c)}{P(b,c)} = \\frac{P(a,b|c)P(c)}{P(b|c)P(c)} = \\frac{P(a,b|c)}{P(b|c)} =\\frac{P(a|c)P(b|c)}{P(b|c)} =  P(a|c)$"
      ]
    },
    {
      "cell_type": "markdown",
      "metadata": {
        "id": "klTShQ_9I7ia"
      },
      "source": [
        "# Section III: Naive Bayes Classifier\n",
        "\n",
        "\n"
      ]
    },
    {
      "cell_type": "markdown",
      "metadata": {
        "id": "-KYkXn-mHqod"
      },
      "source": [
        "\n",
        "Consider the data set below, for spam detection. \n",
        "\n",
        "We will use the Naive Bayes Classifier to learn from this data and predict new sentences. \n",
        "\n",
        "> Sentence | Spam\n",
        "> --- | ---  \n",
        "> congrats you are selected | N \n",
        "> congrats you won lottery | Y\n",
        "> travel for free | Y\n",
        "> good credit | N\n",
        "> selected for credit cards | Y\n",
        "> very good | N\n",
        "> free credit cards | Y\n",
        "> good night | N\n",
        "> lottery | Y \n",
        "> good for you | N \n",
        "\n",
        "In this context, each word can be treated as an attribute, and their values will be 0 or 1 depending on the absence or existence of the word in the sentence. \n",
        "\n",
        "For example, \"congrats\" will be attribute $a_0$, \"you\" will be attribute $a_1$, etc. Use the following mapping for the words to attributes:\n",
        "\n",
        "> word | attribute | dictionary index (see python code below)\n",
        "> --- | --- | ---\n",
        "> congrats | $a_0$ | 0\n",
        "> you | $a_1$ | 1\n",
        "> are | $a_2$ | 2\n",
        "> selected | $a_3$ | 3\n",
        "> won | $a_4$ | 4\n",
        "> lottery | $a_5$ | 5\n",
        "> travel | $a_6$ | 6\n",
        "> for | $a_7$ | 7\n",
        "> free | $a_8$ | 8\n",
        "> credit | $a_9$ | 9\n",
        "> cards | $a_{10}$ | 10\n",
        "> very | $a_{11}$ | 11\n",
        "> good | $a_{12}$ | 12\n",
        "> night | $a_{13}$ | 13\n",
        "\n",
        "```\n",
        "dictionary = np.array([\"congrats\",\"you\",\"are\",\"selected\",\"won\",\"lottery\",\"travel\",\"for\",\"free\",\"credit\",\"cards\",\"very\",\"good\",\"night\"])\n",
        "```\n",
        "\n",
        "So, the sentence \"you won free travel\" would be \n",
        "> $\\small (a_0=0, a_1=1, a_2=0, a_3=0, a_4=1, a_5=0, a_6=1, a_7=0, a_8=1, a_9=0, a_{10}=0, a_{11}=0, a_{12}=0, a_{13}=0)$\n",
        "\n",
        "or simply\n",
        "> $\\small (0,1,0,0,1,0,1,0,1,0,0,0,0,0)$\n",
        "\n",
        "So, the probability that \"you won free travel\" is a spam can be written as:\n",
        "> $\\small P(Spam=Yes| a_0=0, a_1=1, a_2=0, a_3=0, a_4=1, a_5=0, a_6=1, a_7=0, a_8=1, a_9=0, a_{10}=0, a_{11}=0, a_{12}=0, a_{13}=0)$\n",
        "\n",
        "or as\n",
        "\n",
        "> $\\small P(Yes|0,1,0,0,1,0,1,0,1,0,0,0,0,0)$.\n",
        "\n",
        "Note that word ordering does not matter, and multiple occurances of the same word is simply represented as 1. \n"
      ]
    },
    {
      "cell_type": "markdown",
      "metadata": {
        "id": "uPL93V3xWQmd"
      },
      "source": [
        "**Problem 6 (Program: 15pt)**\n",
        "\n",
        "Use the skeleton code in the code cell below to train Naive Bayes on the data set (sentence / spam table in the beginning of Section III). \n",
        "\n",
        "Enter the data in the format shown in the code cell below. ```X``` is the input, and ```y``` is the target values. The first entry in each from the sentence/spam table is already entered in the code cell, along with the skeleton code to train and test. \n",
        "\n",
        "To easily verify that you entered the data correctly, write a function to convert the data vector (each row in the numpy array) to a string, and use this to print out your data in a human readable form. Use the ``dictionary`` array provided in the code cell. \n",
        "\n",
        "```\n",
        "def vec2word(vec):\n",
        "   ...\n",
        "   words = ...\n",
        "   ...\n",
        "   return words\n",
        "```\n",
        "\n",
        "(1) Implement the above and train the Naive Bayes Classifier. Report the accuracy. [5pt]\n",
        "\n",
        "(2) Provide 3 test sentences that are classified as \"Spam\" (output = 1). [5pt]\n",
        "\n",
        "- These cannot be from the provided data set above.\n",
        "- Each sentence must be at least 3 words long.\n",
        "\n",
        "(3) Provide 3 test sentences that are classified as \"Not spam\" (output = 0). [5pt]\n",
        "\n",
        "- These cannot be from the provided data set above.\n",
        "- Each sentence must be at least 3 words long.\n",
        "\n",
        "(4) Do you think this kind of approach can scale to a full-blown spam filter for real-life applications? This is an open ended question. [5pt]\n",
        "\n",
        "   "
      ]
    },
    {
      "cell_type": "markdown",
      "metadata": {
        "id": "80VGZpe3XzEQ"
      },
      "source": [
        "**Answer:**\n",
        "\n",
        "(1) Modify the code below and report the results here. \n",
        "\n",
        "(2) You won lottery. Won free lottery. Credit for free.\n",
        "\n",
        "(3) Congrats you are selected for lottery. You are very free. You are very good.\n",
        "\n",
        "(4) I don't think this approach is good enough for real-life applications, because it doesn't take the order of words into consideration. Sometimes rearranging the same words will result in very different meaning. Moreover, the sentence \"congrats you are selected for lottery\" is classified as not spam. However, it nearly has the same meaning as \"congrats you won lottery\", which is classified as spam. Therefore, there are some problems with this approach."
      ]
    },
    {
      "cell_type": "code",
      "metadata": {
        "colab": {
          "base_uri": "https://localhost:8080/"
        },
        "outputId": "d36ce7d1-2d9d-46f1-d9b3-154b6727fab8",
        "id": "k0xiClK93xG3"
      },
      "source": [
        "\n",
        "\n",
        "import numpy as np\n",
        "from sklearn.naive_bayes import MultinomialNB\n",
        "\n",
        "#-------\n",
        "# dictionary, to look up words from the data vector -- case sensitive! \n",
        "#-------\n",
        "dictionary = np.array([\"congrats\",\"you\",\"are\",\"selected\",\"won\",\"lottery\",\"travel\",\"for\",\"free\",\"credit\",\"cards\",\"very\",\"good\",\"night\"])\n",
        "\n",
        "#-------\n",
        "# vec2word: convert data vector to words\n",
        "#-------\n",
        "def vec2word(vec):\n",
        "  \"\"\"\n",
        "  arguments: vec = np.array([0,1,...])\n",
        "  returns: string of sentence corresponsing to the vector (word may not be ordered properly)\n",
        "  \"\"\"\n",
        "  s = \"\"\n",
        "  for i in range (vec.size):\n",
        "    if vec[i] == 1:\n",
        "      s += dictionary[i]\n",
        "      s += \" \"\n",
        "  return s\n",
        "\n",
        "#[1,1,1,1,0,1,0,1,0,0,0,0,0,0],   # congrats you are selected for lottery: spam\n",
        "#[0,1,1,0,0,0,0,0,0,0,0,1,1,0],    # you are very good : not spam\n",
        "#--------------------------------\n",
        "# spam data : enter your data here \n",
        "#--------------------------------\n",
        "X = np.array([\n",
        " [1,1,1,1,0,0,0,0,0,0,0,0,0,0],   # congrats you are selected: not spam\n",
        " [1,1,0,0,1,1,0,0,0,0,0,0,0,0],    # congrats you won lottery : spam\n",
        " [0,0,0,0,0,0,1,1,1,0,0,0,0,0],\n",
        " [0,0,0,0,0,0,0,0,0,1,0,0,1,0],\n",
        " [0,0,0,1,0,0,0,1,0,1,1,0,0,0],\n",
        " [0,0,0,0,0,0,0,0,0,0,0,1,1,0],\n",
        " [0,0,0,0,0,0,0,0,1,1,1,0,0,0],\n",
        " [0,0,0,0,0,0,0,0,0,0,0,0,1,1],\n",
        " [0,0,0,0,0,1,0,0,0,0,0,0,0,0],\n",
        " [0,1,0,0,0,0,0,1,0,0,0,0,1,0]\n",
        "])\n",
        "\n",
        "y = np.array([0, 1, 1, 0, 1, 0, 1, 0, 1, 0])\n",
        "\n",
        "for i in range (X.shape[0]):\n",
        "  print(vec2word(X[i]))\n",
        "\n",
        "clf = MultinomialNB()\n",
        "clf.fit(X, y)\n",
        "\n",
        "print(\"Score (accuracy: 1.0 = 100%)= \",end=\"\")\n",
        "print(clf.score(X,y))\n",
        "\n",
        "print(\"\")\n",
        "print(\"Spam test: you won lottery: answer=\",end=\"\")\n",
        "test = np.array([[0,1,0,0,1,1,0,0,0,0,0,0,0,0]]) # note: np.array([[ ... ]]), not np.array([ ... ]) \n",
        "# test your vec2word() function here, with the test data. \n",
        "print(clf.predict(test))\n",
        "print(vec2word(test[0]))\n",
        "print(clf.predict_proba(test))  # [1. 0.] correspond to NoSpam and Spam probability, respectively.\n",
        "\n",
        "print(\"\")\n",
        "print(\"Spam test: won free lottery=\",end=\"\")\n",
        "test = np.array([[0,0,0,0,1,1,0,0,1,0,0,0,0,0]]) # note: np.array([[ ... ]]), not np.array([ ... ]) \n",
        "# test your vec2word() function here, with the test data. \n",
        "print(clf.predict(test))\n",
        "print(vec2word(test[0]))\n",
        "print(clf.predict_proba(test))  # [1. 0.] correspond to NoSpam and Spam probability, respectively.\n",
        "\n",
        "print(\"\")\n",
        "print(\"Spam test: credit for free=\",end=\"\")\n",
        "test = np.array([[0,0,0,0,0,0,0,1,1,1,0,0,0,0]]) # note: np.array([[ ... ]]), not np.array([ ... ]) \n",
        "# test your vec2word() function here, with the test data. \n",
        "print(clf.predict(test))\n",
        "print(vec2word(test[0]))\n",
        "print(clf.predict_proba(test))  # [1. 0.] correspond to NoSpam and Spam probability, respectively.\n",
        "\n",
        "print(\"\")\n",
        "print(\"Spam test: congrats you are selected for lottery=\",end=\"\")\n",
        "test = np.array([[1,1,1,1,0,1,0,1,0,0,0,0,0,0]]) # note: np.array([[ ... ]]), not np.array([ ... ]) \n",
        "# test your vec2word() function here, with the test data. \n",
        "print(clf.predict(test))\n",
        "print(vec2word(test[0]))\n",
        "print(clf.predict_proba(test))  # [1. 0.] correspond to NoSpam and Spam probability, respectively.\n",
        "\n",
        "\n",
        "print(\"\")\n",
        "print(\"Spam test: you are very free: answer=\",end=\"\")\n",
        "test = np.array([[0,1,1,0,0,0,0,0,1,0,0,1,0,0]]) # note: np.array([[ ... ]]), not np.array([ ... ]) \n",
        "# test your vec2word() function here, with the test data.  \n",
        "print(clf.predict(test))\n",
        "print(vec2word(test[0]))\n",
        "print(clf.predict_proba(test))  # [1. 0.] correspond to NoSpam and Spam probability, respectively.\n",
        "\n",
        "print(\"\")\n",
        "print(\"Spam test: you are very good: answer=\",end=\"\")\n",
        "test = np.array([[0,1,1,0,0,0,0,0,0,0,0,1,1,0]]) # note: np.array([[ ... ]]), not np.array([ ... ]) \n",
        "# test your vec2word() function here, with the test data.  \n",
        "print(clf.predict(test))\n",
        "print(vec2word(test[0]))\n",
        "print(clf.predict_proba(test))  # [1. 0.] correspond to NoSpam and Spam probability, respectively.\n",
        "\n",
        "\n"
      ],
      "execution_count": null,
      "outputs": [
        {
          "output_type": "stream",
          "name": "stdout",
          "text": [
            "congrats you are selected \n",
            "congrats you won lottery \n",
            "travel for free \n",
            "credit good \n",
            "selected for credit cards \n",
            "very good \n",
            "free credit cards \n",
            "good night \n",
            "lottery \n",
            "you for good \n",
            "Score (accuracy: 1.0 = 100%)= 1.0\n",
            "\n",
            "Spam test: you won lottery: answer=[1]\n",
            "you won lottery \n",
            "[[0.23650857 0.76349143]]\n",
            "\n",
            "Spam test: won free lottery=[1]\n",
            "won lottery free \n",
            "[[0.06440479 0.93559521]]\n",
            "\n",
            "Spam test: credit for free=[1]\n",
            "for free credit \n",
            "[[0.15509772 0.84490228]]\n",
            "\n",
            "Spam test: congrats you are selected for lottery=[0]\n",
            "congrats you are selected lottery for \n",
            "[[0.50582191 0.49417809]]\n",
            "\n",
            "Spam test: you are very free: answer=[0]\n",
            "you are free very \n",
            "[[0.72690638 0.27309362]]\n",
            "\n",
            "Spam test: you are very good: answer=[0]\n",
            "you are very good \n",
            "[[0.97556579 0.02443421]]\n"
          ]
        }
      ]
    },
    {
      "cell_type": "markdown",
      "metadata": {
        "id": "TFGRjOOnhK0S"
      },
      "source": [
        "# Section IV: Local Methods"
      ]
    },
    {
      "cell_type": "markdown",
      "metadata": {
        "id": "vEZu1pVl_y0H"
      },
      "source": [
        "**Problem 7 (Written: 15 pts)**\n",
        "\n",
        "The SOM, given an input vector $\\vec{x}$ and the best matching unit index $i(\\vec{x})$, the learning rule for the reference vector for unit $j$ is:\n",
        "$$ \\vec{w}_j \\leftarrow \\vec{w}_j + \\eta h(j,i(\\vec{x}))(\\vec{x} - \\vec{w}_j) $$\n",
        "\n",
        "- The learning rate is fixed $\\eta = 1$.\n",
        "\n",
        "- Let $h(j,i(\\vec{x})) = 1$, for the best matching unit $j=i(\\vec{x})$, $h(j,i(\\vec{x})) = \\frac{2}{3}$ for its immediate neighbor ($j = i(\\vec{x})\\pm1$) and $h(j,i(\\vec{x})) = \\frac{1}{3}$ for its second-order neighbor ($j = i(\\vec{x})\\pm2$). For all the rest, $h(j,i(\\vec{x})) =0$.\n",
        "\n",
        "(1) Consider a 1-D SOM with 7 units with the following weight vectors.\n",
        "Plot the vectors and connect them according to the order given below ($\\vec{w}_1$ connected to $\\vec{w}_2$, etc.).\n",
        ">  $\\vec{w}$ | $w_1$ | $w_2$\n",
        "> --- | --- | ---\n",
        "> $\\vec{w}_1$ | 2 | 0\n",
        "> $\\vec{w}_2$ | 6 | 6\n",
        "> $\\vec{w}_3$ | 1 | 4\n",
        "> $\\vec{w}_4$ | 3 | 6\n",
        "> $\\vec{w}_5$ | 1 | 1\n",
        "> $\\vec{w}_6$ | 6 | 2\n",
        "> $\\vec{w}_7$ | 5 | 4\n",
        "\n",
        "(2) Given an input vector $\\vec{x} = (2,6)$, plot how the weight vectors change after one iteration of training. Plot in the same graph as (1) above."
      ]
    },
    {
      "cell_type": "markdown",
      "metadata": {
        "id": "M5WrZj2wgV-Q"
      },
      "source": [
        "**Answer:**\n",
        "\n",
        "(1) Show the plot\n",
        "\n",
        "(2) Show the plot \n",
        "\n",
        "<img src=\"https://drive.google.com/uc?export=view&id=1587TOp2ZAe1o2hRD8yAPZFVyEfyssDXd\"> \n"
      ]
    },
    {
      "cell_type": "markdown",
      "metadata": {
        "id": "yw8DSNU7k7Uj"
      },
      "source": [
        "**Problem 8 (Written: 10pts)**\n",
        "\n",
        "(1) In radial basis function networks, among (a) the RBF units, (b) output units, and (c) RBF-to-output connections, which part is associated the most with  \"local\" in \"local learning\"? Explain why. [5pt]\n",
        "\n",
        "(a) RBF units is most associated with \"local\" in \"local learning, because they are locally tuned units calculated by input data, number of local cluster centers m and variance s.\n",
        "\n",
        "(2) In radial basis function networks, among (a) parameters of the RBF units (center and variance) and (b) RBF-to-output connection weights, which one can be learned in one-shot, without many iterations? Explain why. [5pt]\n",
        "\n",
        "(b) RBF-to-output connection weights can be learned in one-shot. Assume there are H RBF units, we can generate RBF activation values from N input vectors. This will form a N*H matrix P, such that Pw = y, w are the weights and y is the output of each input data. P is known since it is computed from input data, y is also known because it is also from the data. Therefore we can compute all weights w in one-shot using pseudo inverse."
      ]
    }
  ]
}